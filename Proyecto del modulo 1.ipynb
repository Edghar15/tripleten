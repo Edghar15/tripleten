{
 "cells": [
  {
   "cell_type": "markdown",
   "metadata": {},
   "source": [
    "<b>Hola Edghar</b>\n",
    "\n",
    "Mi nombre es Alejandro Abia y tengo el gusto de revisar tu proyecto.\n",
    "\n",
    "A continuación, encontrarás mis comentarios en celdas pintadas de tres colores (verde, amarillo y rojo), a manera de semáforo. Por favor, <b>no las borres ni muevas de posición</b> mientras dure el proceso de revisión.\n",
    "\n",
    "<div class=\"alert alert-block alert-success\">\n",
    "<b>Éxito</b> <a class=\"tocSkip\"></a>\n",
    "En celdas verdes encontrarás comentarios en relación a tus aciertos y fortalezas.\n",
    "</div>\n",
    "<div class=\"alert alert-block alert-warning\">\n",
    "<b>Antención</b> <a class=\"tocSkip\"></a>\n",
    "Utilizaré el color amarillo para llamar tu atención, expresar algo importante o compartirte alguna idea de valor.\n",
    "</div>\n",
    "<div class=\"alert alert-block alert-danger\">\n",
    "<b>A resolver</b> <a class=\"tocSkip\"></a>\n",
    "En rojo emitiré aquellos puntos que deberás atender para aprobar la revisión.\n",
    "</div>\n",
    "<div class=\"alert alert-block alert-info\">\n",
    "<b>Comentario estudiante</b><a class=\"tocSkip\"></a>\n",
    "Es factible que, a lo largo del proceso de revisión, quieras dejarme comentarios. Si es el caso, por favor realízalo dentro de celdas azules como esta.\n",
    "</div>\n",
    "Respecto del proceso de revisión, tu proyecto será aceptado una vez que los comentarios en rojo hayan sido atendidos.\n",
    "¡Empecemos!"
   ]
  },
  {
   "cell_type": "code",
   "execution_count": 1,
   "metadata": {
    "scrolled": false
   },
   "outputs": [
    {
     "name": "stdout",
     "output_type": "stream",
     "text": [
      "Paso 1: Carga de datos\n"
     ]
    }
   ],
   "source": [
    "print(\"Paso 1: Carga de datos\")"
   ]
  },
  {
   "cell_type": "code",
   "execution_count": 2,
   "metadata": {
    "tags": [
     "e5c1f0c2-db9f-43a0-99b9-4875c52427e8"
    ]
   },
   "outputs": [],
   "source": [
    "import pandas as pd\n",
    "import matplotlib.pyplot as plt\n",
    "import seaborn as sns\n",
    "from scipy import stats\n",
    "import numpy as np\n",
    "\n",
    "df = pd.read_csv('/datasets/games.csv')"
   ]
  },
  {
   "cell_type": "code",
   "execution_count": 3,
   "metadata": {},
   "outputs": [
    {
     "name": "stdout",
     "output_type": "stream",
     "text": [
      "Paso 2: 1. Nombre de columnas en minusculas 2. En la columna year_of_release converti los valores en numericos (los necesitamos de forma numerica para cualquier calculo que ocupemos hacer), 3. Los valores ausentes los sustitui por Unknown buscando evitar algun error, 4. Realice las ventas por region\n"
     ]
    }
   ],
   "source": [
    "print(\"Paso 2: 1. Nombre de columnas en minusculas 2. En la columna year_of_release converti los valores en numericos (los necesitamos de forma numerica para cualquier calculo que ocupemos hacer), 3. Los valores ausentes los sustitui por Unknown buscando evitar algun error, 4. Realice las ventas por region\")"
   ]
  },
  {
   "cell_type": "code",
   "execution_count": 4,
   "metadata": {},
   "outputs": [
    {
     "name": "stdout",
     "output_type": "stream",
     "text": [
      "Index(['name', 'platform', 'year_of_release', 'genre', 'na_sales', 'eu_sales',\n",
      "       'jp_sales', 'other_sales', 'critic_score', 'user_score', 'rating'],\n",
      "      dtype='object')\n"
     ]
    }
   ],
   "source": [
    "df.columns = df.columns.str.lower()\n",
    "print(df.columns)"
   ]
  },
  {
   "cell_type": "code",
   "execution_count": 5,
   "metadata": {},
   "outputs": [],
   "source": [
    "df['year_of_release'] = pd.to_numeric(df['year_of_release'], errors='coerce')"
   ]
  },
  {
   "cell_type": "code",
   "execution_count": 6,
   "metadata": {},
   "outputs": [],
   "source": [
    "df['rating'].fillna('Unknown', inplace=True)\n",
    "df.dropna(subset=['year_of_release'], inplace=True)"
   ]
  },
  {
   "cell_type": "code",
   "execution_count": 7,
   "metadata": {
    "scrolled": true
   },
   "outputs": [
    {
     "name": "stdout",
     "output_type": "stream",
     "text": [
      "                                name platform  year_of_release         genre  \\\n",
      "0                         Wii Sports      Wii           2006.0        Sports   \n",
      "1                  Super Mario Bros.      NES           1985.0      Platform   \n",
      "2                     Mario Kart Wii      Wii           2008.0        Racing   \n",
      "3                  Wii Sports Resort      Wii           2009.0        Sports   \n",
      "4           Pokemon Red/Pokemon Blue       GB           1996.0  Role-Playing   \n",
      "...                              ...      ...              ...           ...   \n",
      "16710  Samurai Warriors: Sanada Maru      PS3           2016.0        Action   \n",
      "16711               LMA Manager 2007     X360           2006.0        Sports   \n",
      "16712        Haitaka no Psychedelica      PSV           2016.0     Adventure   \n",
      "16713               Spirits & Spells      GBA           2003.0      Platform   \n",
      "16714            Winning Post 8 2016      PSV           2016.0    Simulation   \n",
      "\n",
      "       na_sales  eu_sales  jp_sales  other_sales  critic_score user_score  \\\n",
      "0         41.36     28.96      3.77         8.45          76.0          8   \n",
      "1         29.08      3.58      6.81         0.77           NaN        NaN   \n",
      "2         15.68     12.76      3.79         3.29          82.0        8.3   \n",
      "3         15.61     10.93      3.28         2.95          80.0          8   \n",
      "4         11.27      8.89     10.22         1.00           NaN        NaN   \n",
      "...         ...       ...       ...          ...           ...        ...   \n",
      "16710      0.00      0.00      0.01         0.00           NaN        NaN   \n",
      "16711      0.00      0.01      0.00         0.00           NaN        NaN   \n",
      "16712      0.00      0.00      0.01         0.00           NaN        NaN   \n",
      "16713      0.01      0.00      0.00         0.00           NaN        NaN   \n",
      "16714      0.00      0.00      0.01         0.00           NaN        NaN   \n",
      "\n",
      "        rating  total_sales  \n",
      "0            E        82.54  \n",
      "1      Unknown        40.24  \n",
      "2            E        35.52  \n",
      "3            E        32.77  \n",
      "4      Unknown        31.38  \n",
      "...        ...          ...  \n",
      "16710  Unknown         0.01  \n",
      "16711  Unknown         0.01  \n",
      "16712  Unknown         0.01  \n",
      "16713  Unknown         0.01  \n",
      "16714  Unknown         0.01  \n",
      "\n",
      "[16446 rows x 12 columns]\n"
     ]
    }
   ],
   "source": [
    "df['total_sales'] = df[['na_sales', 'eu_sales', 'jp_sales', 'other_sales']].sum(axis=1)\n",
    "print(df)"
   ]
  },
  {
   "cell_type": "markdown",
   "metadata": {},
   "source": [
    "<div class=\"alert alert-block alert-success\">\n",
    "<b>Celdas [2–7]</b> <a class=\"tocSkip\"></a><br>\n",
    "Excelente trabajo en la limpieza inicial de datos. Cambiaste los nombres de columnas a minúsculas, convertiste correctamente la columna <code>year_of_release</code> a formato numérico y manejaste los valores ausentes de forma adecuada usando <code>dropna</code> y <code>fillna</code>. Además, creaste correctamente una nueva columna de ventas totales sumando las regionales.\n",
    "</div>\n"
   ]
  },
  {
   "cell_type": "code",
   "execution_count": 8,
   "metadata": {},
   "outputs": [
    {
     "name": "stdout",
     "output_type": "stream",
     "text": [
      "Paso 3: 1. Podemos observar que los juegos lanzados por año tuvo un auge entre 2006 y 2011 2. Cerca del 50% de las ventas son de las plataformas PS2 y x360  3. Cerca del 50% de las ventas son las categorias Action, Sports y Shooter\n"
     ]
    }
   ],
   "source": [
    "print(\"Paso 3: 1. Podemos observar que los juegos lanzados por año tuvo un auge entre 2006 y 2011 2. Cerca del 50% de las ventas son de las plataformas PS2 y x360  3. Cerca del 50% de las ventas son las categorias Action, Sports y Shooter\")"
   ]
  },
  {
   "cell_type": "code",
   "execution_count": 9,
   "metadata": {},
   "outputs": [
    {
     "data": {
      "image/png": "[encoded data removed]",
      "text/plain": [
       "<Figure size 1200x600 with 1 Axes>"
      ]
     },
     "metadata": {},
     "output_type": "display_data"
    }
   ],
   "source": [
    "plt.figure(figsize=(12, 6))\n",
    "sns.countplot(x='year_of_release', data=df)\n",
    "plt.title('Juegos lanzados por año')\n",
    "plt.xticks(rotation=45)\n",
    "plt.show()"
   ]
  },
  {
   "cell_type": "code",
   "execution_count": 10,
   "metadata": {},
   "outputs": [
    {
     "data": {
      "text/plain": [
       "platform\n",
       "PS2     1233.56\n",
       "X360     961.24\n",
       "PS3      931.34\n",
       "Wii      891.18\n",
       "DS       802.78\n",
       "Name: total_sales, dtype: float64"
      ]
     },
     "execution_count": 10,
     "metadata": {},
     "output_type": "execute_result"
    }
   ],
   "source": [
    "df.groupby('platform')['total_sales'].sum().sort_values(ascending=False).head(5)"
   ]
  },
  {
   "cell_type": "code",
   "execution_count": 11,
   "metadata": {},
   "outputs": [
    {
     "name": "stdout",
     "output_type": "stream",
     "text": [
      "Top 5 plataformas por ventas: ['PS2', 'X360', 'PS3', 'Wii', 'DS']\n"
     ]
    }
   ],
   "source": [
    "top_platforms = df.groupby('platform')['total_sales'].sum().nlargest(5).index.tolist()\n",
    "print(\"Top 5 plataformas por ventas:\", top_platforms)"
   ]
  },
  {
   "cell_type": "code",
   "execution_count": 12,
   "metadata": {},
   "outputs": [
    {
     "data": {
      "image/png": "[encoded data removed]",
      "text/plain": [
       "<Figure size 1200x600 with 1 Axes>"
      ]
     },
     "metadata": {},
     "output_type": "display_data"
    }
   ],
   "source": [
    "plt.figure(figsize=(12, 6))\n",
    "sns.boxplot(\n",
    "    x='platform',\n",
    "    y='total_sales',\n",
    "    data=df[df['platform'].isin(top_platforms)],\n",
    "    showfliers=False  \n",
    ")\n",
    "plt.title('Distribución de ventas por plataforma (Top 5)', fontsize=15)\n",
    "plt.xlabel('Plataforma', fontsize=12)\n",
    "plt.ylabel('Ventas totales (millones USD)', fontsize=12)\n",
    "plt.xticks(rotation=45)\n",
    "plt.grid(axis='y', linestyle='--', alpha=0.7)\n",
    "plt.show()"
   ]
  },
  {
   "cell_type": "markdown",
   "metadata": {},
   "source": [
    "<div class=\"alert alert-block alert-success\">\n",
    "<b>Celdas [9–12]</b> <a class=\"tocSkip\"></a><br>\n",
    "Muy bien aplicada la exploración visual. Usaste gráficos útiles como el <code>countplot</code> y <code>boxplot</code> para explorar tendencias por año y distribución de ventas por plataforma. Identificaste correctamente las plataformas con mayores ventas y presentaste resultados con claridad.\n",
    "</div>\n"
   ]
  },
  {
   "cell_type": "code",
   "execution_count": 13,
   "metadata": {},
   "outputs": [
    {
     "data": {
      "text/html": [
       "<div>\n",
       "<style scoped>\n",
       "    .dataframe tbody tr th:only-of-type {\n",
       "        vertical-align: middle;\n",
       "    }\n",
       "\n",
       "    .dataframe tbody tr th {\n",
       "        vertical-align: top;\n",
       "    }\n",
       "\n",
       "    .dataframe thead th {\n",
       "        text-align: right;\n",
       "    }\n",
       "</style>\n",
       "<table border=\"1\" class=\"dataframe\">\n",
       "  <thead>\n",
       "    <tr style=\"text-align: right;\">\n",
       "      <th></th>\n",
       "      <th>critic_score</th>\n",
       "      <th>total_sales</th>\n",
       "    </tr>\n",
       "  </thead>\n",
       "  <tbody>\n",
       "    <tr>\n",
       "      <th>critic_score</th>\n",
       "      <td>1.000000</td>\n",
       "      <td>0.406568</td>\n",
       "    </tr>\n",
       "    <tr>\n",
       "      <th>total_sales</th>\n",
       "      <td>0.406568</td>\n",
       "      <td>1.000000</td>\n",
       "    </tr>\n",
       "  </tbody>\n",
       "</table>\n",
       "</div>"
      ],
      "text/plain": [
       "              critic_score  total_sales\n",
       "critic_score      1.000000     0.406568\n",
       "total_sales       0.406568     1.000000"
      ]
     },
     "execution_count": 13,
     "metadata": {},
     "output_type": "execute_result"
    }
   ],
   "source": [
    "ps4_data = df[df['platform'] == 'PS4']\n",
    "ps4_data[['critic_score', 'user_score', 'total_sales']].corr()\n"
   ]
  },
  {
   "cell_type": "markdown",
   "metadata": {},
   "source": [
    "<div class=\"alert alert-block alert-success\">\n",
    "<b>Celda [13]</b> <a class=\"tocSkip\"></a><br>\n",
    "Buen análisis de correlación entre <code>critic_score</code> y <code>total_sales</code> para PS4. Se evidencia una correlación moderada que refuerza la importancia de las críticas en el desempeño comercial de un juego. Bien sustentado.\n",
    "</div>\n"
   ]
  },
  {
   "cell_type": "code",
   "execution_count": 14,
   "metadata": {},
   "outputs": [
    {
     "data": {
      "text/plain": [
       "<AxesSubplot:xlabel='critic_score', ylabel='total_sales'>"
      ]
     },
     "execution_count": 14,
     "metadata": {},
     "output_type": "execute_result"
    },
    {
     "data": {
      "image/png": "[encoded data removed]",
      "text/plain": [
       "<Figure size 640x480 with 1 Axes>"
      ]
     },
     "metadata": {},
     "output_type": "display_data"
    }
   ],
   "source": [
    "sns.scatterplot(x='critic_score', y='total_sales', data=ps4_data)"
   ]
  },
  {
   "cell_type": "code",
   "execution_count": 15,
   "metadata": {},
   "outputs": [
    {
     "data": {
      "text/plain": [
       "genre\n",
       "Action          1716.52\n",
       "Sports          1309.67\n",
       "Shooter         1041.36\n",
       "Role-Playing     931.08\n",
       "Platform         825.55\n",
       "Misc             790.29\n",
       "Racing           723.49\n",
       "Fighting         442.66\n",
       "Simulation       387.96\n",
       "Puzzle           239.89\n",
       "Adventure        233.33\n",
       "Strategy         172.57\n",
       "Name: total_sales, dtype: float64"
      ]
     },
     "execution_count": 15,
     "metadata": {},
     "output_type": "execute_result"
    }
   ],
   "source": [
    "df.groupby('genre')['total_sales'].sum().sort_values(ascending=False)"
   ]
  },
  {
   "cell_type": "code",
   "execution_count": 16,
   "metadata": {},
   "outputs": [
    {
     "name": "stdout",
     "output_type": "stream",
     "text": [
      "Paso 4: 1. Top plataformas por region, 2. En cada region tienen una consola diferente como numero 1, 3. E Apto para todos los grupos de edad  M Apto para mayores de 17 años T Apto para mayores de 13 años  E 10+ Apto para mayores de 10 años \n"
     ]
    }
   ],
   "source": [
    "print(\"Paso 4: 1. Top plataformas por region, 2. En cada region tienen una consola diferente como numero 1, 3. E Apto para todos los grupos de edad  M Apto para mayores de 17 años T Apto para mayores de 13 años  E 10+ Apto para mayores de 10 años \")"
   ]
  },
  {
   "cell_type": "code",
   "execution_count": 17,
   "metadata": {
    "scrolled": true
   },
   "outputs": [
    {
     "name": "stdout",
     "output_type": "stream",
     "text": [
      "Top plataformas en na_sales:\n",
      "platform\n",
      "X360    595.74\n",
      "PS2     572.92\n",
      "Wii     486.87\n",
      "PS3     390.13\n",
      "DS      380.31\n",
      "Name: na_sales, dtype: float64\n",
      "Top plataformas en eu_sales:\n",
      "platform\n",
      "PS2     332.63\n",
      "PS3     327.21\n",
      "X360    268.32\n",
      "Wii     258.32\n",
      "PS      212.39\n",
      "Name: eu_sales, dtype: float64\n",
      "Top plataformas en jp_sales:\n",
      "platform\n",
      "DS      175.02\n",
      "PS      139.78\n",
      "PS2     137.54\n",
      "SNES    116.55\n",
      "3DS     100.62\n",
      "Name: jp_sales, dtype: float64\n"
     ]
    }
   ],
   "source": [
    "regions = ['na_sales', 'eu_sales', 'jp_sales']\n",
    "for region in regions:\n",
    "    print(f\"Top plataformas en {region}:\")\n",
    "    print(df.groupby('platform')[region].sum().sort_values(ascending=False).head(5))"
   ]
  },
  {
   "cell_type": "markdown",
   "metadata": {},
   "source": [
    "<div class=\"alert alert-block alert-success\">\n",
    "<b>Celdas [15–17]</b> <a class=\"tocSkip\"></a><br>\n",
    "Has presentado adecuadamente el análisis por género y por región, destacando la relevancia de las plataformas según el mercado. Tus agrupamientos son claros y los resultados son útiles para orientar decisiones comerciales y de marketing.\n",
    "</div>\n"
   ]
  },
  {
   "cell_type": "code",
   "execution_count": 18,
   "metadata": {},
   "outputs": [
    {
     "data": {
      "text/plain": [
       "<AxesSubplot:xlabel='rating', ylabel='na_sales'>"
      ]
     },
     "execution_count": 18,
     "metadata": {},
     "output_type": "execute_result"
    },
    {
     "data": {
      "image/png": "[encoded data removed]",
      "text/plain": [
       "<Figure size 640x480 with 1 Axes>"
      ]
     },
     "metadata": {},
     "output_type": "display_data"
    }
   ],
   "source": [
    "sns.barplot(x='rating', y='na_sales', data=df, estimator=sum)"
   ]
  },
  {
   "cell_type": "code",
   "execution_count": 19,
   "metadata": {},
   "outputs": [
    {
     "name": "stdout",
     "output_type": "stream",
     "text": [
      "Paso 5: 1. Las calificaciones de Acción y Deportes son diferentes\n"
     ]
    }
   ],
   "source": [
    "print(\"Paso 5: 1. Las calificaciones de Acción y Deportes son diferentes\")"
   ]
  },
  {
   "cell_type": "code",
   "execution_count": 20,
   "metadata": {},
   "outputs": [
    {
     "name": "stdout",
     "output_type": "stream",
     "text": [
      "p-value: nan\n"
     ]
    }
   ],
   "source": [
    "xbox_scores = df[df['platform'] == 'Xbox One']['user_score'].dropna()\n",
    "pc_scores = df[df['platform'] == 'PC']['user_score'].dropna()\n",
    "t_stat, p_value = stats.ttest_ind(xbox_scores, pc_scores, equal_var=False)\n",
    "print(f\"p-value: {p_value}\")"
   ]
  },
  {
   "cell_type": "markdown",
   "metadata": {},
   "source": [
    "<div class=\"alert alert-block alert-warning\">\n",
    "<b>Celda [20]</b> <a class=\"tocSkip\"></a><br>\n",
    "Intentaste aplicar una prueba de hipótesis con <code>ttest_ind</code>, lo cual es excelente. Sin embargo, el resultado es <code>NaN</code> porque <code>user_score</code> está mal codificada como cadena (e.g., 'tbd') o contiene valores no numéricos. Se recomienda convertir <code>user_score</code> a numérico con <code>pd.to_numeric(errors='coerce')</code> antes de aplicar la prueba.\n",
    "</div>\n"
   ]
  },
  {
   "cell_type": "code",
   "execution_count": 21,
   "metadata": {},
   "outputs": [
    {
     "name": "stdout",
     "output_type": "stream",
     "text": [
      "Conclusiones: Las plataformas PS4 y XOne dominan ventas; los géneros Shooter y Sports son los más rentables, recomendaciones: Enfocar campañas en PS4/Acción para NA/EU, y Nintendo/JP para Japón\n"
     ]
    }
   ],
   "source": [
    "print(\"Conclusiones: Las plataformas PS4 y XOne dominan ventas; los géneros Shooter y Sports son los más rentables, recomendaciones: Enfocar campañas en PS4/Acción para NA/EU, y Nintendo/JP para Japón\")"
   ]
  },
  {
   "cell_type": "markdown",
   "metadata": {},
   "source": [
    "<div class=\"alert alert-block alert-success\">\n",
    "<b>Comentario final</b> <a class=\"tocSkip\"></a><br>\n",
    "¡Gran trabajo, Edghar! Tu proyecto muestra un excelente manejo del ciclo completo de análisis: limpieza, visualización, segmentación regional y análisis estadístico. Destaca la claridad con la que presentas tus hallazgos, así como tu capacidad para identificar patrones relevantes en los datos. Como sugerencia, asegúrate de transformar variables como <code>user_score</code> a formato numérico antes de aplicar pruebas estadísticas. Con ese ajuste, el análisis quedaría aún más completo. ¡Sigue así!\n",
    "</div>\n"
   ]
  }
 ],
 "metadata": {
  "ExecuteTimeLog": [
   {
    "duration": 2610,
    "start_time": "2025-04-08T02:24:28.260Z"
   },
   {
    "duration": 26,
    "start_time": "2025-04-08T02:24:52.544Z"
   },
   {
    "duration": 24,
    "start_time": "2025-04-08T02:24:57.968Z"
   },
   {
    "duration": 4,
    "start_time": "2025-04-08T02:25:39.904Z"
   },
   {
    "duration": 4,
    "start_time": "2025-04-08T02:28:47.053Z"
   },
   {
    "duration": 12,
    "start_time": "2025-04-08T02:30:49.602Z"
   },
   {
    "duration": 5,
    "start_time": "2025-04-08T02:31:05.007Z"
   },
   {
    "duration": 5,
    "start_time": "2025-04-08T02:31:08.428Z"
   },
   {
    "duration": 12,
    "start_time": "2025-04-08T02:31:20.928Z"
   },
   {
    "duration": 288,
    "start_time": "2025-04-08T02:35:49.599Z"
   },
   {
    "duration": 7,
    "start_time": "2025-04-08T02:37:02.029Z"
   },
   {
    "duration": 7,
    "start_time": "2025-04-08T02:37:36.987Z"
   },
   {
    "duration": 6,
    "start_time": "2025-04-08T02:37:47.105Z"
   },
   {
    "duration": 257,
    "start_time": "2025-04-08T02:37:50.983Z"
   },
   {
    "duration": 12,
    "start_time": "2025-04-08T02:37:54.782Z"
   },
   {
    "duration": 6,
    "start_time": "2025-04-08T02:38:03.840Z"
   },
   {
    "duration": 3,
    "start_time": "2025-04-08T02:38:09.555Z"
   },
   {
    "duration": 4,
    "start_time": "2025-04-08T02:38:14.280Z"
   },
   {
    "duration": 24,
    "start_time": "2025-04-08T02:38:16.611Z"
   },
   {
    "duration": 604,
    "start_time": "2025-04-08T02:39:03.491Z"
   },
   {
    "duration": 45,
    "start_time": "2025-04-08T02:39:10.333Z"
   },
   {
    "duration": 8,
    "start_time": "2025-04-08T02:39:53.312Z"
   },
   {
    "duration": 24,
    "start_time": "2025-04-08T02:40:03.140Z"
   },
   {
    "duration": 4,
    "start_time": "2025-04-08T02:40:05.826Z"
   },
   {
    "duration": 3,
    "start_time": "2025-04-08T02:40:09.309Z"
   },
   {
    "duration": 7,
    "start_time": "2025-04-08T02:40:11.914Z"
   },
   {
    "duration": 11,
    "start_time": "2025-04-08T02:40:15.040Z"
   },
   {
    "duration": 337,
    "start_time": "2025-04-08T02:40:18.800Z"
   },
   {
    "duration": 4,
    "start_time": "2025-04-08T02:40:27.973Z"
   },
   {
    "duration": 6,
    "start_time": "2025-04-08T02:40:55.197Z"
   },
   {
    "duration": 24,
    "start_time": "2025-04-08T02:41:29.509Z"
   },
   {
    "duration": 3,
    "start_time": "2025-04-08T02:41:31.842Z"
   },
   {
    "duration": 4,
    "start_time": "2025-04-08T02:41:34.912Z"
   },
   {
    "duration": 7,
    "start_time": "2025-04-08T02:41:37.955Z"
   },
   {
    "duration": 11,
    "start_time": "2025-04-08T02:41:41.633Z"
   },
   {
    "duration": 12,
    "start_time": "2025-04-08T02:41:47.186Z"
   },
   {
    "duration": 260,
    "start_time": "2025-04-08T02:41:50.275Z"
   },
   {
    "duration": 7,
    "start_time": "2025-04-08T02:41:54.180Z"
   },
   {
    "duration": 17,
    "start_time": "2025-04-08T02:42:03.832Z"
   },
   {
    "duration": 69,
    "start_time": "2025-04-08T02:42:21.291Z"
   },
   {
    "duration": 48,
    "start_time": "2025-04-08T02:42:41.443Z"
   },
   {
    "duration": 164,
    "start_time": "2025-04-08T02:43:45.863Z"
   },
   {
    "duration": 44,
    "start_time": "2025-04-08T02:44:14.554Z"
   },
   {
    "duration": 45,
    "start_time": "2025-04-08T02:45:52.384Z"
   },
   {
    "duration": 44,
    "start_time": "2025-04-08T02:47:39.222Z"
   },
   {
    "duration": 50,
    "start_time": "2025-04-08T02:48:07.270Z"
   },
   {
    "duration": 3,
    "start_time": "2025-04-08T02:48:12.272Z"
   },
   {
    "duration": 19,
    "start_time": "2025-04-08T02:49:31.940Z"
   },
   {
    "duration": 18,
    "start_time": "2025-04-08T02:49:39.183Z"
   },
   {
    "duration": 19,
    "start_time": "2025-04-08T02:49:51.890Z"
   },
   {
    "duration": 41,
    "start_time": "2025-04-08T02:50:59.447Z"
   },
   {
    "duration": 42,
    "start_time": "2025-04-08T02:51:03.738Z"
   },
   {
    "duration": 42,
    "start_time": "2025-04-08T02:51:12.711Z"
   },
   {
    "duration": 40,
    "start_time": "2025-04-08T02:51:24.937Z"
   },
   {
    "duration": 252,
    "start_time": "2025-04-08T02:51:27.665Z"
   },
   {
    "duration": 24,
    "start_time": "2025-04-08T02:51:34.373Z"
   },
   {
    "duration": 4,
    "start_time": "2025-04-08T02:51:35.887Z"
   },
   {
    "duration": 4,
    "start_time": "2025-04-08T02:51:38.429Z"
   },
   {
    "duration": 8,
    "start_time": "2025-04-08T02:51:41.214Z"
   },
   {
    "duration": 12,
    "start_time": "2025-04-08T02:51:45.686Z"
   },
   {
    "duration": 315,
    "start_time": "2025-04-08T02:51:48.885Z"
   },
   {
    "duration": 7,
    "start_time": "2025-04-08T02:51:53.139Z"
   },
   {
    "duration": 6,
    "start_time": "2025-04-08T02:52:02.880Z"
   },
   {
    "duration": 2611,
    "start_time": "2025-04-09T23:36:44.804Z"
   },
   {
    "duration": 23,
    "start_time": "2025-04-09T23:36:52.730Z"
   },
   {
    "duration": 4,
    "start_time": "2025-04-09T23:36:56.169Z"
   },
   {
    "duration": 22,
    "start_time": "2025-04-09T23:37:03.333Z"
   },
   {
    "duration": 3,
    "start_time": "2025-04-09T23:37:05.841Z"
   },
   {
    "duration": 3,
    "start_time": "2025-04-09T23:37:18.004Z"
   },
   {
    "duration": 8,
    "start_time": "2025-04-09T23:37:20.360Z"
   },
   {
    "duration": 17,
    "start_time": "2025-04-09T23:37:23.244Z"
   },
   {
    "duration": 272,
    "start_time": "2025-04-09T23:37:29.670Z"
   },
   {
    "duration": 6,
    "start_time": "2025-04-09T23:37:35.232Z"
   },
   {
    "duration": 4,
    "start_time": "2025-04-09T23:39:14.158Z"
   },
   {
    "duration": 7,
    "start_time": "2025-04-09T23:40:58.465Z"
   },
   {
    "duration": 166,
    "start_time": "2025-04-09T23:41:27.840Z"
   },
   {
    "duration": 150,
    "start_time": "2025-04-09T23:41:39.351Z"
   },
   {
    "duration": 160,
    "start_time": "2025-04-09T23:42:22.814Z"
   },
   {
    "duration": 17,
    "start_time": "2025-04-09T23:45:08.218Z"
   },
   {
    "duration": 146,
    "start_time": "2025-04-09T23:46:04.414Z"
   },
   {
    "duration": 9,
    "start_time": "2025-04-09T23:46:13.739Z"
   },
   {
    "duration": 132,
    "start_time": "2025-04-09T23:46:21.139Z"
   },
   {
    "duration": 3,
    "start_time": "2025-04-09T23:49:45.767Z"
   },
   {
    "duration": 25,
    "start_time": "2025-04-09T23:49:48.248Z"
   },
   {
    "duration": 4,
    "start_time": "2025-04-09T23:49:51.662Z"
   },
   {
    "duration": 2,
    "start_time": "2025-04-09T23:52:23.101Z"
   },
   {
    "duration": 35,
    "start_time": "2025-04-09T23:52:27.842Z"
   },
   {
    "duration": 3,
    "start_time": "2025-04-09T23:53:44.313Z"
   },
   {
    "duration": 3,
    "start_time": "2025-04-09T23:56:28.533Z"
   },
   {
    "duration": 6,
    "start_time": "2025-04-10T01:12:31.900Z"
   },
   {
    "duration": 3,
    "start_time": "2025-04-10T01:22:53.089Z"
   },
   {
    "duration": 3,
    "start_time": "2025-04-10T01:29:04.857Z"
   },
   {
    "duration": 3,
    "start_time": "2025-04-10T01:45:25.001Z"
   },
   {
    "duration": 4,
    "start_time": "2025-04-10T01:49:07.097Z"
   },
   {
    "duration": 2,
    "start_time": "2025-04-10T01:51:17.681Z"
   },
   {
    "duration": 154,
    "start_time": "2025-04-10T01:58:40.761Z"
   },
   {
    "duration": 12,
    "start_time": "2025-04-10T01:58:51.200Z"
   },
   {
    "duration": 15,
    "start_time": "2025-04-10T01:58:58.592Z"
   },
   {
    "duration": 17,
    "start_time": "2025-04-10T01:59:01.993Z"
   },
   {
    "duration": 19,
    "start_time": "2025-04-10T01:59:09.139Z"
   },
   {
    "duration": 12,
    "start_time": "2025-04-10T01:59:14.015Z"
   },
   {
    "duration": 3,
    "start_time": "2025-04-10T01:59:20.508Z"
   },
   {
    "duration": 2655,
    "start_time": "2025-04-10T01:59:22.727Z"
   },
   {
    "duration": 3,
    "start_time": "2025-04-10T01:59:26.984Z"
   },
   {
    "duration": 6,
    "start_time": "2025-04-10T01:59:30.456Z"
   },
   {
    "duration": 3,
    "start_time": "2025-04-10T01:59:34.462Z"
   },
   {
    "duration": 9,
    "start_time": "2025-04-10T01:59:36.313Z"
   },
   {
    "duration": 13,
    "start_time": "2025-04-10T01:59:40.099Z"
   },
   {
    "duration": 3,
    "start_time": "2025-04-10T01:59:45.480Z"
   },
   {
    "duration": 338,
    "start_time": "2025-04-10T01:59:49.571Z"
   },
   {
    "duration": 7,
    "start_time": "2025-04-10T01:59:53.575Z"
   },
   {
    "duration": 5,
    "start_time": "2025-04-10T01:59:57.082Z"
   },
   {
    "duration": 6,
    "start_time": "2025-04-10T02:00:05.261Z"
   },
   {
    "duration": 8,
    "start_time": "2025-04-10T02:00:07.290Z"
   },
   {
    "duration": 162,
    "start_time": "2025-04-10T02:00:13.839Z"
   },
   {
    "duration": 11,
    "start_time": "2025-04-10T02:00:20.015Z"
   },
   {
    "duration": 117,
    "start_time": "2025-04-10T02:00:23.414Z"
   },
   {
    "duration": 7,
    "start_time": "2025-04-10T02:00:27.905Z"
   },
   {
    "duration": 3,
    "start_time": "2025-04-10T02:04:59.281Z"
   },
   {
    "duration": 2,
    "start_time": "2025-04-10T02:18:56.789Z"
   },
   {
    "duration": 10,
    "start_time": "2025-04-10T02:19:00.354Z"
   },
   {
    "duration": 3,
    "start_time": "2025-04-10T02:21:41.653Z"
   },
   {
    "duration": 1383,
    "start_time": "2025-04-10T02:28:05.654Z"
   },
   {
    "duration": 4,
    "start_time": "2025-04-10T02:34:02.132Z"
   },
   {
    "duration": 3,
    "start_time": "2025-04-10T02:35:53.225Z"
   },
   {
    "duration": 8,
    "start_time": "2025-04-10T02:35:55.768Z"
   },
   {
    "duration": 3,
    "start_time": "2025-04-10T02:39:35.512Z"
   },
   {
    "duration": 16,
    "start_time": "2025-04-10T02:49:38.471Z"
   },
   {
    "duration": 9,
    "start_time": "2025-04-10T03:00:10.537Z"
   },
   {
    "duration": 1479,
    "start_time": "2025-04-10T03:00:10.548Z"
   },
   {
    "duration": 3,
    "start_time": "2025-04-10T03:00:12.031Z"
   },
   {
    "duration": 5,
    "start_time": "2025-04-10T03:00:12.036Z"
   },
   {
    "duration": 3,
    "start_time": "2025-04-10T03:00:12.044Z"
   },
   {
    "duration": 66,
    "start_time": "2025-04-10T03:00:12.049Z"
   },
   {
    "duration": 13,
    "start_time": "2025-04-10T03:00:12.117Z"
   },
   {
    "duration": 3,
    "start_time": "2025-04-10T03:00:12.132Z"
   },
   {
    "duration": 619,
    "start_time": "2025-04-10T03:00:12.137Z"
   },
   {
    "duration": 8,
    "start_time": "2025-04-10T03:00:12.810Z"
   },
   {
    "duration": 6,
    "start_time": "2025-04-10T03:00:12.820Z"
   },
   {
    "duration": 382,
    "start_time": "2025-04-10T03:00:12.827Z"
   },
   {
    "duration": 11,
    "start_time": "2025-04-10T03:00:13.211Z"
   },
   {
    "duration": 406,
    "start_time": "2025-04-10T03:00:13.225Z"
   },
   {
    "duration": 6,
    "start_time": "2025-04-10T03:00:13.633Z"
   },
   {
    "duration": 3,
    "start_time": "2025-04-10T03:00:13.641Z"
   },
   {
    "duration": 68,
    "start_time": "2025-04-10T03:00:13.646Z"
   },
   {
    "duration": 2619,
    "start_time": "2025-04-10T03:00:13.717Z"
   },
   {
    "duration": 3,
    "start_time": "2025-04-10T03:00:16.338Z"
   },
   {
    "duration": 67,
    "start_time": "2025-04-10T03:00:16.342Z"
   },
   {
    "duration": 3,
    "start_time": "2025-04-10T03:00:16.411Z"
   }
  ],
  "kernelspec": {
   "display_name": "Python 3 (ipykernel)",
   "language": "python",
   "name": "python3"
  },
  "language_info": {
   "codemirror_mode": {
    "name": "ipython",
    "version": 3
   },
   "file_extension": ".py",
   "mimetype": "text/x-python",
   "name": "python",
   "nbconvert_exporter": "python",
   "pygments_lexer": "ipython3",
   "version": "3.9.19"
  },
  "toc": {
   "base_numbering": 1,
   "nav_menu": {},
   "number_sections": true,
   "sideBar": true,
   "skip_h1_title": true,
   "title_cell": "Table of Contents",
   "title_sidebar": "Contents",
   "toc_cell": false,
   "toc_position": {},
   "toc_section_display": true,
   "toc_window_display": false
  }
 },
 "nbformat": 4,
 "nbformat_minor": 2
}

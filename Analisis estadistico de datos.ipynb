{
 "cells": [
  {
   "cell_type": "markdown",
   "metadata": {},
   "source": [
    "¡Hola, Edghar!\n",
    "\n",
    "Mi nombre es Tonatiuh Cruz. Me complace revisar tu proyecto hoy.\n",
    "\n",
    "Al identificar cualquier error inicialmente, simplemente los destacaré. Te animo a localizar y abordar los problemas de forma independiente como parte de tu preparación para un rol como data-analyst. En un entorno profesional, tu líder de equipo seguiría un enfoque similar. Si encuentras la tarea desafiante, proporcionaré una pista más específica en la próxima iteración.\n",
    "\n",
    "Encontrarás mis comentarios a continuación - **por favor no los muevas, modifiques o elimines**.\n",
    "\n",
    "Puedes encontrar mis comentarios en cajas verdes, amarillas o rojas como esta:\n",
    "\n",
    "<div class=\"alert alert-block alert-success\">\n",
    "<b>Comentario del revisor</b> <a class=\"tocSkip\"></a>\n",
    "\n",
    "Éxito. Todo está hecho correctamente.\n",
    "</div>\n",
    "\n",
    "<div class=\"alert alert-block alert-warning\">\n",
    "<b>Comentario del revisor</b> <a class=\"tocSkip\"></a>\n",
    "\n",
    "Observaciones. Algunas recomendaciones.\n",
    "</div>\n",
    "\n",
    "<div class=\"alert alert-block alert-danger\">\n",
    "<b>Comentario del revisor</b> <a class=\"tocSkip\"></a>\n",
    "\n",
    "Necesita corrección. El bloque requiere algunas correcciones. El trabajo no puede ser aceptado con comentarios en rojo.\n",
    "</div>\n",
    "\n",
    "Puedes responderme utilizando esto:\n",
    "\n",
    "<div class=\"alert alert-block alert-info\">\n",
    "<b>Respuesta del estudiante.</b> <a class=\"tocSkip\"></a>"
   ]
  },
  {
   "cell_type": "markdown",
   "metadata": {},
   "source": [
    "<div class=\"alert alert-block alert-success\">\n",
    "<b>Resumen de la revisión 1</b> <a class=\"tocSkip\"></a>\n",
    "\n",
    "Hola Edghar! Has hecho un excelente trabajo con el proyecto, cada vez más cercas de convertirte en un analista de datos. Realizaste la carga de bases, su análisis inicial, sus ajustes, un análisis de algunos variables conmplementado con gráficas y el desarrollo de las pruebas d ehipótesis. Solamente te dejo algunos comentarios para complementar el análisis. \n",
    "\n",
    "Sigue con el excelente trabajo!\n",
    "</div>"
   ]
  },
  {
   "cell_type": "markdown",
   "metadata": {
    "id": "3rYiDeEH0q0f"
   },
   "source": [
    "# ¿Cuál es la mejor tarifa?\n",
    "\n",
    "Trabajas como analista para el operador de telecomunicaciones Megaline. La empresa ofrece a sus clientes dos tarifas de prepago, Surf y Ultimate. El departamento comercial quiere saber cuál de las tarifas genera más ingresos para poder ajustar el presupuesto de publicidad.\n",
    "\n",
    "Vas a realizar un análisis preliminar de las tarifas basado en una selección de clientes relativamente pequeña. Tendrás los datos de 500 clientes de Megaline: quiénes son los clientes, de dónde son, qué tarifa usan, así como la cantidad de llamadas que hicieron y los mensajes de texto que enviaron en 2018. Tu trabajo es analizar el comportamiento de los clientes y determinar qué tarifa de prepago genera más ingresos."
   ]
  },
  {
   "cell_type": "markdown",
   "metadata": {
    "id": "VNddPNRQ0q0w"
   },
   "source": [
    "[Te proporcionamos algunos comentarios para orientarte mientras completas este proyecto. Pero debes asegurarte de eliminar todos los comentarios entre corchetes antes de entregar tu proyecto.]\n",
    "\n",
    "[Antes de sumergirte en el análisis de datos, explica por tu propia cuenta el propósito del proyecto y las acciones que planeas realizar.]\n",
    "\n",
    "[Ten en cuenta que estudiar, modificar y analizar datos es un proceso iterativo. Es normal volver a los pasos anteriores y corregirlos/ampliarlos para permitir nuevos pasos.]"
   ]
  },
  {
   "cell_type": "markdown",
   "metadata": {
    "id": "MQi4IPy70q0y"
   },
   "source": [
    "## Inicialización"
   ]
  },
  {
   "cell_type": "code",
   "execution_count": 1,
   "metadata": {
    "id": "MtYIuBxu0q0z"
   },
   "outputs": [],
   "source": [
    "# Cargar todas las librerías\n",
    "\n",
    "import pandas as pd\n",
    "import numpy as np\n",
    "import matplotlib.pyplot as plt\n",
    "import seaborn as sns\n",
    "from scipy import stats\n",
    "import math\n",
    "\n",
    "\n",
    "\n"
   ]
  },
  {
   "cell_type": "markdown",
   "metadata": {},
   "source": [
    "<div class=\"alert alert-block alert-warning\">\n",
    "<b>Comentario revisor</b> <a class=\"tocSkip\"></a>\n",
    "\n",
    "\n",
    "Recomiendo cargar la libreria math. De esta manera, puedes realizar redondeos con otros métodos. \n",
    "</div>"
   ]
  },
  {
   "cell_type": "markdown",
   "metadata": {},
   "source": [
    "\n",
    "<div class=\"alert alert-block alert-success\">\n",
    "<b>Comentario del revisor</b> <a class=\"tocSkip\"></a>\n",
    "\n",
    "Gran trabajo con el ajuste!"
   ]
  },
  {
   "cell_type": "markdown",
   "metadata": {
    "id": "4ysWWC5i0q00"
   },
   "source": [
    "## Cargar datos"
   ]
  },
  {
   "cell_type": "code",
   "execution_count": 11,
   "metadata": {
    "id": "CCqPW7rS0q01"
   },
   "outputs": [
    {
     "name": "stdout",
     "output_type": "stream",
     "text": [
      "   user_id first_name  last_name  age                                   city  \\\n",
      "0     1000   Anamaria      Bauer   45  Atlanta-Sandy Springs-Roswell, GA MSA   \n",
      "1     1001     Mickey  Wilkerson   28        Seattle-Tacoma-Bellevue, WA MSA   \n",
      "2     1002     Carlee    Hoffman   36   Las Vegas-Henderson-Paradise, NV MSA   \n",
      "3     1003   Reynaldo    Jenkins   52                          Tulsa, OK MSA   \n",
      "4     1004    Leonila   Thompson   40        Seattle-Tacoma-Bellevue, WA MSA   \n",
      "\n",
      "     reg_date      plan churn_date  \n",
      "0  2018-12-24  ultimate        NaN  \n",
      "1  2018-08-13      surf        NaN  \n",
      "2  2018-10-21      surf        NaN  \n",
      "3  2018-01-28      surf        NaN  \n",
      "4  2018-05-23      surf        NaN  \n",
      "         id  user_id   call_date  duration\n",
      "0   1000_93     1000  2018-12-27      8.52\n",
      "1  1000_145     1000  2018-12-27     13.66\n",
      "2  1000_247     1000  2018-12-27     14.48\n",
      "3  1000_309     1000  2018-12-28      5.76\n",
      "4  1000_380     1000  2018-12-30      4.22\n",
      "         id  user_id message_date\n",
      "0  1000_125     1000   2018-12-27\n",
      "1  1000_160     1000   2018-12-31\n",
      "2  1000_223     1000   2018-12-31\n",
      "3  1000_251     1000   2018-12-27\n",
      "4  1000_255     1000   2018-12-26\n",
      "         id  user_id session_date  mb_used\n",
      "0   1000_13     1000   2018-12-29    89.86\n",
      "1  1000_204     1000   2018-12-31     0.00\n",
      "2  1000_379     1000   2018-12-28   660.40\n",
      "3  1000_413     1000   2018-12-26   270.99\n",
      "4  1000_442     1000   2018-12-27   880.22\n",
      "   messages_included  mb_per_month_included  minutes_included  \\\n",
      "0                 50                  15360               500   \n",
      "1               1000                  30720              3000   \n",
      "\n",
      "   usd_monthly_pay  usd_per_gb  usd_per_message  usd_per_minute plan_name  \n",
      "0               20          10             0.03            0.03      surf  \n",
      "1               70           7             0.01            0.01  ultimate  \n",
      "<class 'pandas.core.frame.DataFrame'>\n",
      "RangeIndex: 500 entries, 0 to 499\n",
      "Data columns (total 8 columns):\n",
      " #   Column      Non-Null Count  Dtype \n",
      "---  ------      --------------  ----- \n",
      " 0   user_id     500 non-null    int64 \n",
      " 1   first_name  500 non-null    object\n",
      " 2   last_name   500 non-null    object\n",
      " 3   age         500 non-null    int64 \n",
      " 4   city        500 non-null    object\n",
      " 5   reg_date    500 non-null    object\n",
      " 6   plan        500 non-null    object\n",
      " 7   churn_date  34 non-null     object\n",
      "dtypes: int64(2), object(6)\n",
      "memory usage: 31.4+ KB\n",
      "None\n",
      "<class 'pandas.core.frame.DataFrame'>\n",
      "RangeIndex: 137735 entries, 0 to 137734\n",
      "Data columns (total 4 columns):\n",
      " #   Column     Non-Null Count   Dtype  \n",
      "---  ------     --------------   -----  \n",
      " 0   id         137735 non-null  object \n",
      " 1   user_id    137735 non-null  int64  \n",
      " 2   call_date  137735 non-null  object \n",
      " 3   duration   137735 non-null  float64\n",
      "dtypes: float64(1), int64(1), object(2)\n",
      "memory usage: 4.2+ MB\n",
      "None\n",
      "<class 'pandas.core.frame.DataFrame'>\n",
      "RangeIndex: 76051 entries, 0 to 76050\n",
      "Data columns (total 3 columns):\n",
      " #   Column        Non-Null Count  Dtype \n",
      "---  ------        --------------  ----- \n",
      " 0   id            76051 non-null  object\n",
      " 1   user_id       76051 non-null  int64 \n",
      " 2   message_date  76051 non-null  object\n",
      "dtypes: int64(1), object(2)\n",
      "memory usage: 1.7+ MB\n",
      "None\n",
      "<class 'pandas.core.frame.DataFrame'>\n",
      "RangeIndex: 104825 entries, 0 to 104824\n",
      "Data columns (total 4 columns):\n",
      " #   Column        Non-Null Count   Dtype  \n",
      "---  ------        --------------   -----  \n",
      " 0   id            104825 non-null  object \n",
      " 1   user_id       104825 non-null  int64  \n",
      " 2   session_date  104825 non-null  object \n",
      " 3   mb_used       104825 non-null  float64\n",
      "dtypes: float64(1), int64(1), object(2)\n",
      "memory usage: 3.2+ MB\n",
      "None\n",
      "<class 'pandas.core.frame.DataFrame'>\n",
      "RangeIndex: 2 entries, 0 to 1\n",
      "Data columns (total 8 columns):\n",
      " #   Column                 Non-Null Count  Dtype  \n",
      "---  ------                 --------------  -----  \n",
      " 0   messages_included      2 non-null      int64  \n",
      " 1   mb_per_month_included  2 non-null      int64  \n",
      " 2   minutes_included       2 non-null      int64  \n",
      " 3   usd_monthly_pay        2 non-null      int64  \n",
      " 4   usd_per_gb             2 non-null      int64  \n",
      " 5   usd_per_message        2 non-null      float64\n",
      " 6   usd_per_minute         2 non-null      float64\n",
      " 7   plan_name              2 non-null      object \n",
      "dtypes: float64(2), int64(5), object(1)\n",
      "memory usage: 256.0+ bytes\n",
      "None\n"
     ]
    }
   ],
   "source": [
    "# Carga los archivos de datos en diferentes DataFrames\n",
    "\n",
    "users = pd.read_csv(\"/datasets/megaline_users.csv\")\n",
    "calls = pd.read_csv(\"/datasets/megaline_calls.csv\")\n",
    "messages = pd.read_csv(\"/datasets/megaline_messages.csv\")\n",
    "internet = pd.read_csv(\"/datasets/megaline_internet.csv\")\n",
    "plans = pd.read_csv(\"/datasets/megaline_plans.csv\")\n",
    "\n",
    "\n",
    "print(users.head())\n",
    "print(calls.head())\n",
    "print(messages.head())\n",
    "print(internet.head())\n",
    "print(plans.head())\n",
    "\n",
    "\n",
    "\n",
    "print(users.info())\n",
    "print(calls.info())\n",
    "print(messages.info())\n",
    "print(internet.info())\n",
    "print(plans.info())\n",
    "\n"
   ]
  },
  {
   "cell_type": "markdown",
   "metadata": {
    "id": "69qqoJ3r0q01"
   },
   "source": [
    "## Preparar los datos"
   ]
  },
  {
   "cell_type": "markdown",
   "metadata": {
    "id": "vUuZw80S0q01"
   },
   "source": [
    "[Los datos para este proyecto se dividen en varias tablas. Explora cada una para tener una comprensión inicial de los datos. Si es necesario, haz las correcciones requeridas en cada tabla.]"
   ]
  },
  {
   "cell_type": "markdown",
   "metadata": {
    "id": "ohBhimvH0q01"
   },
   "source": [
    "## Tarifas"
   ]
  },
  {
   "cell_type": "code",
   "execution_count": 11,
   "metadata": {
    "id": "GptqP3Q40q02"
   },
   "outputs": [
    {
     "name": "stdout",
     "output_type": "stream",
     "text": [
      "<class 'pandas.core.frame.DataFrame'>\n",
      "RangeIndex: 2 entries, 0 to 1\n",
      "Data columns (total 8 columns):\n",
      " #   Column                 Non-Null Count  Dtype  \n",
      "---  ------                 --------------  -----  \n",
      " 0   messages_included      2 non-null      int64  \n",
      " 1   mb_per_month_included  2 non-null      int64  \n",
      " 2   minutes_included       2 non-null      int64  \n",
      " 3   usd_monthly_pay        2 non-null      int64  \n",
      " 4   usd_per_gb             2 non-null      int64  \n",
      " 5   usd_per_message        2 non-null      float64\n",
      " 6   usd_per_minute         2 non-null      float64\n",
      " 7   plan_name              2 non-null      object \n",
      "dtypes: float64(2), int64(5), object(1)\n",
      "memory usage: 256.0+ bytes\n",
      "None\n"
     ]
    }
   ],
   "source": [
    "# Imprime la información general/resumida sobre el DataFrame de las tarifas\n",
    "import pandas as pd\n",
    "plans = pd.read_csv(\"/datasets/megaline_plans.csv\")\n",
    "\n",
    "print(plans.info())\n",
    "\n",
    "\n",
    "\n"
   ]
  },
  {
   "cell_type": "code",
   "execution_count": 12,
   "metadata": {
    "id": "64xzjwL70q02"
   },
   "outputs": [
    {
     "name": "stdout",
     "output_type": "stream",
     "text": [
      "   messages_included  mb_per_month_included  minutes_included  \\\n",
      "0                 50                  15360               500   \n",
      "1               1000                  30720              3000   \n",
      "\n",
      "   usd_monthly_pay  usd_per_gb  usd_per_message  usd_per_minute plan_name  \n",
      "0               20          10             0.03            0.03      surf  \n",
      "1               70           7             0.01            0.01  ultimate  \n"
     ]
    }
   ],
   "source": [
    "# Imprime una muestra de los datos para las tarifas\n",
    "print(plans.head())\n"
   ]
  },
  {
   "cell_type": "markdown",
   "metadata": {
    "id": "mEc_3_hs0q02"
   },
   "source": [
    "[Describe lo que ves y observas en la información general y en la muestra de datos impresa para el precio de datos anterior. ¿Hay algún problema (tipos de datos no adecuados, datos ausentes, etc.) que pudieran necesitar investigación y cambios adicionales? ¿Cómo se puede arreglar?]\n",
    "\n",
    "* El archivo no cuenta con valores nulos y los datos paracen estar bien estructurados."
   ]
  },
  {
   "cell_type": "markdown",
   "metadata": {
    "id": "R3C05i1l0q03"
   },
   "source": [
    "## Corregir datos"
   ]
  },
  {
   "cell_type": "markdown",
   "metadata": {
    "id": "bIi8StZI0q03"
   },
   "source": [
    "[Corrige los problemas obvios con los datos basándote en las observaciones iniciales.]"
   ]
  },
  {
   "cell_type": "code",
   "execution_count": 13,
   "metadata": {
    "id": "Y7SVmjGn0q03"
   },
   "outputs": [
    {
     "name": "stdout",
     "output_type": "stream",
     "text": [
      "NA\n"
     ]
    }
   ],
   "source": [
    "print(\"NA\")"
   ]
  },
  {
   "cell_type": "markdown",
   "metadata": {
    "id": "LJir7bml0q03"
   },
   "source": [
    "## Enriquecer los datos"
   ]
  },
  {
   "cell_type": "markdown",
   "metadata": {
    "id": "eqADpCfg0q04"
   },
   "source": [
    "[Agrega factores adicionales a los datos si crees que pudieran ser útiles.] * Podemos optar por convertir los MB consumidos por GB para llegar a una consistencia con los limites del plan (ambos planes esta descritos en GB)."
   ]
  },
  {
   "cell_type": "markdown",
   "metadata": {
    "id": "gfcIEuXV0q04"
   },
   "source": [
    "\n",
    "<div class=\"alert alert-block alert-warning\">\n",
    "<b>Comentario Revisor</b> <a class=\"tocSkip\"></a>\n",
    "\n",
    "Muy buen trabajo, solamente te sugiero que en este apartado menciones un poco sobre la transformación que se debe realizar de megabytes a gigabytes. \n",
    "</div>"
   ]
  },
  {
   "cell_type": "markdown",
   "metadata": {
    "id": "1n2X6WXf0q04"
   },
   "source": [
    "## Usuarios/as"
   ]
  },
  {
   "cell_type": "code",
   "execution_count": 18,
   "metadata": {
    "id": "2NgjWFqx0q05"
   },
   "outputs": [
    {
     "name": "stdout",
     "output_type": "stream",
     "text": [
      "<class 'pandas.core.frame.DataFrame'>\n",
      "RangeIndex: 500 entries, 0 to 499\n",
      "Data columns (total 8 columns):\n",
      " #   Column      Non-Null Count  Dtype \n",
      "---  ------      --------------  ----- \n",
      " 0   user_id     500 non-null    int64 \n",
      " 1   first_name  500 non-null    object\n",
      " 2   last_name   500 non-null    object\n",
      " 3   age         500 non-null    int64 \n",
      " 4   city        500 non-null    object\n",
      " 5   reg_date    500 non-null    object\n",
      " 6   plan        500 non-null    object\n",
      " 7   churn_date  34 non-null     object\n",
      "dtypes: int64(2), object(6)\n",
      "memory usage: 31.4+ KB\n",
      "None\n"
     ]
    }
   ],
   "source": [
    "# Imprime la información general/resumida sobre el DataFrame de usuarios\n",
    "import pandas as pd\n",
    "users = pd.read_csv(\"/datasets/megaline_users.csv\")\n",
    "\n",
    "print(users.info())"
   ]
  },
  {
   "cell_type": "code",
   "execution_count": 16,
   "metadata": {
    "id": "1IN1L9uh0q05"
   },
   "outputs": [
    {
     "name": "stdout",
     "output_type": "stream",
     "text": [
      "   user_id first_name  last_name  age                                   city  \\\n",
      "0     1000   Anamaria      Bauer   45  Atlanta-Sandy Springs-Roswell, GA MSA   \n",
      "1     1001     Mickey  Wilkerson   28        Seattle-Tacoma-Bellevue, WA MSA   \n",
      "2     1002     Carlee    Hoffman   36   Las Vegas-Henderson-Paradise, NV MSA   \n",
      "3     1003   Reynaldo    Jenkins   52                          Tulsa, OK MSA   \n",
      "4     1004    Leonila   Thompson   40        Seattle-Tacoma-Bellevue, WA MSA   \n",
      "\n",
      "     reg_date      plan churn_date  \n",
      "0  2018-12-24  ultimate        NaN  \n",
      "1  2018-08-13      surf        NaN  \n",
      "2  2018-10-21      surf        NaN  \n",
      "3  2018-01-28      surf        NaN  \n",
      "4  2018-05-23      surf        NaN  \n"
     ]
    }
   ],
   "source": [
    "# Imprime una muestra de datos para usuarios\n",
    "\n",
    "print(users.head())\n",
    "\n"
   ]
  },
  {
   "cell_type": "markdown",
   "metadata": {
    "id": "dCZoUq4f0q06"
   },
   "source": [
    "[Describe lo que ves y observas en la información general y en la muestra de datos impresa para el precio de datos anterior. ¿Hay algún problema (tipos de datos no adecuados, datos ausentes, etc.) que pudieran necesitar investigación y cambios adicionales? ¿Cómo se puede arreglar?]\n",
    "\n",
    "* La columna \"red_date\" y \"churn_date\" se encuentra como object pero debemos cambiarlos a datatime.\n",
    "* La columna \"churn_date tiene solo 34 valores de 500 (bastantes valores nulos)"
   ]
  },
  {
   "cell_type": "markdown",
   "metadata": {
    "id": "BX5FQh_I0q06"
   },
   "source": [
    "### Corregir los datos"
   ]
  },
  {
   "cell_type": "markdown",
   "metadata": {
    "id": "8OdKMwJv0q06"
   },
   "source": [
    "[Corrige los problemas obvios con los datos basándote en las observaciones iniciales.]"
   ]
  },
  {
   "cell_type": "code",
   "execution_count": 3,
   "metadata": {
    "id": "yUqX-K0C0q07"
   },
   "outputs": [
    {
     "name": "stdout",
     "output_type": "stream",
     "text": [
      "<class 'pandas.core.frame.DataFrame'>\n",
      "RangeIndex: 500 entries, 0 to 499\n",
      "Data columns (total 8 columns):\n",
      " #   Column      Non-Null Count  Dtype         \n",
      "---  ------      --------------  -----         \n",
      " 0   user_id     500 non-null    int64         \n",
      " 1   first_name  500 non-null    object        \n",
      " 2   last_name   500 non-null    object        \n",
      " 3   age         500 non-null    int64         \n",
      " 4   city        500 non-null    object        \n",
      " 5   reg_date    500 non-null    datetime64[ns]\n",
      " 6   plan        500 non-null    object        \n",
      " 7   churn_date  34 non-null     datetime64[ns]\n",
      "dtypes: datetime64[ns](2), int64(2), object(4)\n",
      "memory usage: 31.4+ KB\n",
      "None\n"
     ]
    }
   ],
   "source": [
    "import pandas as pd\n",
    "\n",
    "users = pd.read_csv(\"/datasets/megaline_users.csv\")\n",
    "\n",
    "users['reg_date'] = pd.to_datetime(users['reg_date'], format='%Y-%m-%d', errors='coerce')\n",
    "users['churn_date'] = pd.to_datetime(users['churn_date'], format='%Y-%m-%d', errors='coerce')  # ← Conserva NaT para usuarios activos\n",
    "\n",
    "print(users.info())\n"
   ]
  },
  {
   "cell_type": "markdown",
   "metadata": {},
   "source": [
    "\n",
    "<div class=\"alert alert-block alert-warning\">\n",
    "<b>Comentario Revisor</b> <a class=\"tocSkip\"></a>\n",
    "\n",
    "En todos los casos en los que cambiamos el tipo de variable a datetime, te recomiendo agregar el argumento \"format='%Y-%m-%d'\" dentro de la función to_datetime(). De esta manera, puedes asegurarte siempre de que el formato de la fecha que deseas cambiar sea el que necesitas.\n",
    "</div>"
   ]
  },
  {
   "cell_type": "markdown",
   "metadata": {},
   "source": [
    "\n",
    "<div class=\"alert alert-block alert-success\">\n",
    "<b>Comentario del revisor</b> <a class=\"tocSkip\"></a>\n",
    "\n",
    "Gran trabajo con el ajuste!"
   ]
  },
  {
   "cell_type": "markdown",
   "metadata": {
    "id": "ycwuARJp0q07"
   },
   "source": [
    "### Enriquecer los datos"
   ]
  },
  {
   "cell_type": "markdown",
   "metadata": {
    "id": "96NIh4CJ0q08"
   },
   "source": [
    "[Agrega factores adicionales a los datos si crees que pudieran ser útiles.]"
   ]
  },
  {
   "cell_type": "code",
   "execution_count": 29,
   "metadata": {
    "id": "iq0AaBS90q08"
   },
   "outputs": [
    {
     "name": "stdout",
     "output_type": "stream",
     "text": [
      "NA\n"
     ]
    }
   ],
   "source": [
    "print(\"NA\")"
   ]
  },
  {
   "cell_type": "markdown",
   "metadata": {
    "id": "o7MeKCid0q08"
   },
   "source": [
    "## Llamadas"
   ]
  },
  {
   "cell_type": "code",
   "execution_count": 36,
   "metadata": {
    "id": "6dDlnoDm0q08"
   },
   "outputs": [
    {
     "name": "stdout",
     "output_type": "stream",
     "text": [
      "<class 'pandas.core.frame.DataFrame'>\n",
      "RangeIndex: 137735 entries, 0 to 137734\n",
      "Data columns (total 4 columns):\n",
      " #   Column     Non-Null Count   Dtype  \n",
      "---  ------     --------------   -----  \n",
      " 0   id         137735 non-null  object \n",
      " 1   user_id    137735 non-null  int64  \n",
      " 2   call_date  137735 non-null  object \n",
      " 3   duration   137735 non-null  float64\n",
      "dtypes: float64(1), int64(1), object(2)\n",
      "memory usage: 4.2+ MB\n",
      "None\n"
     ]
    }
   ],
   "source": [
    "# Imprime la información general/resumida sobre el DataFrame de las llamadas\n",
    "\n",
    "import pandas as pd\n",
    "calls = pd.read_csv(\"/datasets/megaline_calls.csv\")\n",
    "\n",
    "print(calls.info())"
   ]
  },
  {
   "cell_type": "code",
   "execution_count": 35,
   "metadata": {
    "id": "kuh1vlNB0q09"
   },
   "outputs": [
    {
     "name": "stdout",
     "output_type": "stream",
     "text": [
      "         id  user_id  call_date  duration\n",
      "0   1000_93     1000 2018-12-27      8.52\n",
      "1  1000_145     1000 2018-12-27     13.66\n",
      "2  1000_247     1000 2018-12-27     14.48\n",
      "3  1000_309     1000 2018-12-28      5.76\n",
      "4  1000_380     1000 2018-12-30      4.22\n"
     ]
    }
   ],
   "source": [
    "# Imprime una muestra de datos para las llamadas\n",
    "\n",
    "print(calls.head())"
   ]
  },
  {
   "cell_type": "markdown",
   "metadata": {
    "id": "DOAxYJSx0q09"
   },
   "source": [
    "[Describe lo que ves y observas en la información general y en la muestra de datos impresa para el precio de datos anterior. ¿Hay algún problema (tipos de datos no adecuados, datos ausentes, etc.) que pudieran necesitar investigación y cambios adicionales? ¿Cómo se puede arreglar?]\n",
    "\n",
    "*No se visualizan valores nulos solamente fue necesario cambiar de formato a la columna \"call_date\" (formato texto a Fecha)\n"
   ]
  },
  {
   "cell_type": "markdown",
   "metadata": {
    "id": "S7hzxmbX0q0-"
   },
   "source": [
    "### Corregir los datos"
   ]
  },
  {
   "cell_type": "markdown",
   "metadata": {
    "id": "YxWyAjD20q0-"
   },
   "source": [
    "[Corrige los problemas obvios con los datos basándote en las observaciones iniciales.]"
   ]
  },
  {
   "cell_type": "code",
   "execution_count": 37,
   "metadata": {
    "id": "S2r8xA4f0q0-"
   },
   "outputs": [
    {
     "name": "stdout",
     "output_type": "stream",
     "text": [
      "<class 'pandas.core.frame.DataFrame'>\n",
      "RangeIndex: 137735 entries, 0 to 137734\n",
      "Data columns (total 4 columns):\n",
      " #   Column     Non-Null Count   Dtype         \n",
      "---  ------     --------------   -----         \n",
      " 0   id         137735 non-null  object        \n",
      " 1   user_id    137735 non-null  int64         \n",
      " 2   call_date  137735 non-null  datetime64[ns]\n",
      " 3   duration   137735 non-null  float64       \n",
      "dtypes: datetime64[ns](1), float64(1), int64(1), object(1)\n",
      "memory usage: 4.2+ MB\n",
      "None\n"
     ]
    }
   ],
   "source": [
    "import pandas as pd\n",
    "calls = pd.read_csv(\"/datasets/megaline_calls.csv\")\n",
    "\n",
    "calls['call_date'] = pd.to_datetime(calls['call_date'], errors='coerce')\n",
    "\n",
    "print(calls.info())"
   ]
  },
  {
   "cell_type": "markdown",
   "metadata": {
    "id": "KrMgTrlG0q0_"
   },
   "source": [
    "### Enriquecer los datos"
   ]
  },
  {
   "cell_type": "markdown",
   "metadata": {
    "id": "a9MbmEvE0q0_"
   },
   "source": [
    "[Agrega factores adicionales a los datos si crees que pudieran ser útiles.]"
   ]
  },
  {
   "cell_type": "code",
   "execution_count": 4,
   "metadata": {
    "id": "iZ1avpA_0q0_"
   },
   "outputs": [
    {
     "name": "stdout",
     "output_type": "stream",
     "text": [
      "Las llamadas con duracion de 0 podrian ser llamadas fallidas o cortadas inmediatamente\n"
     ]
    }
   ],
   "source": [
    "print(\"Las llamadas con duracion de 0 podrian ser llamadas fallidas o cortadas inmediatamente\")"
   ]
  },
  {
   "cell_type": "markdown",
   "metadata": {},
   "source": [
    "<div class=\"alert alert-block alert-warning\">\n",
    "<b>Comentario Revisor</b> <a class=\"tocSkip\"></a>\n",
    "\n",
    "Qué podríamos decir hasta el momento de las llamadas que tienen una duración de 0?\n",
    "</div>"
   ]
  },
  {
   "cell_type": "markdown",
   "metadata": {},
   "source": [
    "\n",
    "<div class=\"alert alert-block alert-success\">\n",
    "<b>Comentario del revisor</b> <a class=\"tocSkip\"></a>\n",
    "\n",
    "Gran trabajo con el ajuste!"
   ]
  },
  {
   "cell_type": "markdown",
   "metadata": {
    "id": "mOUZSi180q0_"
   },
   "source": [
    "## Mensajes"
   ]
  },
  {
   "cell_type": "code",
   "execution_count": 39,
   "metadata": {
    "id": "R-bYJpdV0q1A"
   },
   "outputs": [
    {
     "name": "stdout",
     "output_type": "stream",
     "text": [
      "<class 'pandas.core.frame.DataFrame'>\n",
      "RangeIndex: 76051 entries, 0 to 76050\n",
      "Data columns (total 3 columns):\n",
      " #   Column        Non-Null Count  Dtype \n",
      "---  ------        --------------  ----- \n",
      " 0   id            76051 non-null  object\n",
      " 1   user_id       76051 non-null  int64 \n",
      " 2   message_date  76051 non-null  object\n",
      "dtypes: int64(1), object(2)\n",
      "memory usage: 1.7+ MB\n",
      "None\n"
     ]
    }
   ],
   "source": [
    "# Imprime la información general/resumida sobre el DataFrame de los mensajes\n",
    "import pandas as pd\n",
    "messages = pd.read_csv(\"/datasets/megaline_messages.csv\")\n",
    "\n",
    "print(messages.info())\n"
   ]
  },
  {
   "cell_type": "code",
   "execution_count": 40,
   "metadata": {
    "id": "mCEl2iGE0q1A"
   },
   "outputs": [
    {
     "name": "stdout",
     "output_type": "stream",
     "text": [
      "         id  user_id message_date\n",
      "0  1000_125     1000   2018-12-27\n",
      "1  1000_160     1000   2018-12-31\n",
      "2  1000_223     1000   2018-12-31\n",
      "3  1000_251     1000   2018-12-27\n",
      "4  1000_255     1000   2018-12-26\n"
     ]
    }
   ],
   "source": [
    "# Imprime una muestra de datos para los mensajes\n",
    "\n",
    "print(messages.head())"
   ]
  },
  {
   "cell_type": "markdown",
   "metadata": {
    "id": "04xDj7KH0q1A"
   },
   "source": [
    "[Describe lo que ves y observas en la información general y en la muestra de datos impresa para el precio de datos anterior. ¿Hay algún problema (tipos de datos no adecuados, datos ausentes, etc.) que pudieran necesitar investigación y cambios adicionales? ¿Cómo se puede arreglar?]\n",
    "\n",
    "* Mismo caso que los puntos anteriores cambiaremos el formato de \"message_date\"."
   ]
  },
  {
   "cell_type": "markdown",
   "metadata": {
    "id": "Sprfak900q1B"
   },
   "source": [
    "### Corregir los datos"
   ]
  },
  {
   "cell_type": "markdown",
   "metadata": {
    "id": "eGw7d9j10q1B"
   },
   "source": [
    "[Corrige los problemas obvios con los datos basándote en las observaciones iniciales.]"
   ]
  },
  {
   "cell_type": "code",
   "execution_count": 41,
   "metadata": {
    "id": "vsllvkoa0q1B"
   },
   "outputs": [
    {
     "name": "stdout",
     "output_type": "stream",
     "text": [
      "<class 'pandas.core.frame.DataFrame'>\n",
      "RangeIndex: 76051 entries, 0 to 76050\n",
      "Data columns (total 3 columns):\n",
      " #   Column        Non-Null Count  Dtype         \n",
      "---  ------        --------------  -----         \n",
      " 0   id            76051 non-null  object        \n",
      " 1   user_id       76051 non-null  int64         \n",
      " 2   message_date  76051 non-null  datetime64[ns]\n",
      "dtypes: datetime64[ns](1), int64(1), object(1)\n",
      "memory usage: 1.7+ MB\n",
      "None\n"
     ]
    }
   ],
   "source": [
    "import pandas as pd\n",
    "messages = pd.read_csv(\"/datasets/megaline_messages.csv\")\n",
    "\n",
    "messages['message_date'] = pd.to_datetime(messages['message_date'], errors='coerce')\n",
    "\n",
    "print(messages.info())"
   ]
  },
  {
   "cell_type": "markdown",
   "metadata": {
    "id": "HvLid7iD0q1B"
   },
   "source": [
    "### Enriquecer los datos"
   ]
  },
  {
   "cell_type": "markdown",
   "metadata": {
    "id": "8nhPFKIe0q1C"
   },
   "source": [
    "[Agrega factores adicionales a los datos si crees que pudieran ser útiles.]"
   ]
  },
  {
   "cell_type": "code",
   "execution_count": 42,
   "metadata": {
    "id": "zYEXZac10q1C"
   },
   "outputs": [
    {
     "name": "stdout",
     "output_type": "stream",
     "text": [
      "NA\n"
     ]
    }
   ],
   "source": [
    "print(\"NA\")"
   ]
  },
  {
   "cell_type": "markdown",
   "metadata": {
    "id": "bStkaxn40q1C"
   },
   "source": [
    "## Internet"
   ]
  },
  {
   "cell_type": "code",
   "execution_count": 43,
   "metadata": {
    "id": "e-Uz5qyn0q1C"
   },
   "outputs": [
    {
     "name": "stdout",
     "output_type": "stream",
     "text": [
      "<class 'pandas.core.frame.DataFrame'>\n",
      "RangeIndex: 104825 entries, 0 to 104824\n",
      "Data columns (total 4 columns):\n",
      " #   Column        Non-Null Count   Dtype  \n",
      "---  ------        --------------   -----  \n",
      " 0   id            104825 non-null  object \n",
      " 1   user_id       104825 non-null  int64  \n",
      " 2   session_date  104825 non-null  object \n",
      " 3   mb_used       104825 non-null  float64\n",
      "dtypes: float64(1), int64(1), object(2)\n",
      "memory usage: 3.2+ MB\n",
      "None\n"
     ]
    }
   ],
   "source": [
    "# Imprime la información general/resumida sobre el DataFrame de internet\n",
    "\n",
    "import pandas as pd\n",
    "internet = pd.read_csv(\"/datasets/megaline_internet.csv\")\n",
    "\n",
    "print(internet.info())"
   ]
  },
  {
   "cell_type": "code",
   "execution_count": 44,
   "metadata": {
    "id": "9r3x_XLw0q1C"
   },
   "outputs": [
    {
     "name": "stdout",
     "output_type": "stream",
     "text": [
      "         id  user_id session_date  mb_used\n",
      "0   1000_13     1000   2018-12-29    89.86\n",
      "1  1000_204     1000   2018-12-31     0.00\n",
      "2  1000_379     1000   2018-12-28   660.40\n",
      "3  1000_413     1000   2018-12-26   270.99\n",
      "4  1000_442     1000   2018-12-27   880.22\n"
     ]
    }
   ],
   "source": [
    "# Imprime una muestra de datos para el tráfico de internet\n",
    "\n",
    "print(internet.head())"
   ]
  },
  {
   "cell_type": "markdown",
   "metadata": {
    "id": "EzOG5ik30q1D"
   },
   "source": [
    "[Describe lo que ves y observas en la información general y en la muestra de datos impresa para el precio de datos anterior. ¿Hay algún problema (tipos de datos no adecuados, datos ausentes, etc.) que pudieran necesitar investigación y cambios adicionales? ¿Cómo se puede arreglar?]\n",
    "\n",
    "* mismo caso anterior"
   ]
  },
  {
   "cell_type": "markdown",
   "metadata": {
    "id": "yA0tkPFg0q1D"
   },
   "source": [
    "### Corregir los datos"
   ]
  },
  {
   "cell_type": "markdown",
   "metadata": {
    "id": "zlZMuIEK0q1D"
   },
   "source": [
    "[Corrige los problemas obvios con los datos basándote en las observaciones iniciales.]"
   ]
  },
  {
   "cell_type": "code",
   "execution_count": 5,
   "metadata": {
    "id": "zVeanzdd0q1E"
   },
   "outputs": [
    {
     "name": "stdout",
     "output_type": "stream",
     "text": [
      "\n",
      "Resumen de datos transformados:\n",
      "   mb_used  gb_used\n",
      "0    89.86        1\n",
      "1     0.00        0\n",
      "2   660.40        1\n",
      "\n",
      "Registros con redondeo superior (ej: 1.01 GB → 2 GB):\n",
      "              id  user_id session_date  mb_used  gb_used\n",
      "102540  1490_355     1490   2018-07-30    39.57        1\n",
      "63320    1292_24     1292   2018-10-07   865.70        1\n",
      "39641   1178_381     1178   2018-12-07   568.59        1\n"
     ]
    }
   ],
   "source": [
    "import pandas as pd\n",
    "import math \n",
    "\n",
    "internet = pd.read_csv(\"/datasets/megaline_internet.csv\")\n",
    "\n",
    "internet['session_date'] = pd.to_datetime(internet['session_date'], errors='coerce')\n",
    "\n",
    "internet['gb_used'] = internet['mb_used'].apply(\n",
    "    lambda x: math.ceil(x / 1024)  \n",
    ")\n",
    "\n",
    "print(\"\\nResumen de datos transformados:\")\n",
    "print(internet[['mb_used', 'gb_used']].head(3))  \n",
    "print(f\"\\nRegistros con redondeo superior (ej: 1.01 GB → 2 GB):\")\n",
    "print(internet[internet['mb_used'] % 1024 != 0].sample(3))"
   ]
  },
  {
   "cell_type": "markdown",
   "metadata": {
    "id": "e8_mLF4a0q1E"
   },
   "source": [
    "### Enriquecer los datos"
   ]
  },
  {
   "cell_type": "markdown",
   "metadata": {
    "id": "xhNdn2tE0q1E"
   },
   "source": [
    "[Agrega factores adicionales a los datos si crees que pudieran ser útiles.]"
   ]
  },
  {
   "cell_type": "code",
   "execution_count": 46,
   "metadata": {
    "id": "ESiYPIEK0q1E"
   },
   "outputs": [
    {
     "name": "stdout",
     "output_type": "stream",
     "text": [
      "NA\n"
     ]
    }
   ],
   "source": [
    "print(\"NA\")"
   ]
  },
  {
   "cell_type": "markdown",
   "metadata": {},
   "source": [
    "<div class=\"alert alert-block alert-warning\">\n",
    "<b>Comentario revisor</b> <a class=\"tocSkip\"></a>\n",
    "\n",
    "\n",
    "Te recomiendo solamente comentar que cuando agrupemos los datos vamos a tener que redondear hacia arriba lo valores de la transformación de mbegabyter a gigabyte, para este ejercicio debemos hacer el redondeo superior dado que se cobra el costo extra en cuanto se pasa de los límites.Por lo que es necesario hacer la transformación de mb a gb y después hacer el redondeo.  \n",
    "</div>"
   ]
  },
  {
   "cell_type": "markdown",
   "metadata": {},
   "source": [
    "\n",
    "<div class=\"alert alert-block alert-success\">\n",
    "<b>Comentario del revisor</b> <a class=\"tocSkip\"></a>\n",
    "\n",
    "Gran trabajo con el ajuste!"
   ]
  },
  {
   "cell_type": "markdown",
   "metadata": {
    "id": "3UA2cqIW0q1E"
   },
   "source": [
    "## Estudiar las condiciones de las tarifas"
   ]
  },
  {
   "cell_type": "markdown",
   "metadata": {
    "id": "T86Sqltq0q1F"
   },
   "source": [
    "[Es sumamente importante entender cómo funcionan las tarifas, cómo se les cobra a los usuarios en función de su plan de suscripción. Así que te sugerimos imprimir la información de la tarifa para ver una vez más sus condiciones.]"
   ]
  },
  {
   "cell_type": "code",
   "execution_count": 47,
   "metadata": {
    "id": "i409op8p0q1F"
   },
   "outputs": [
    {
     "name": "stdout",
     "output_type": "stream",
     "text": [
      "   messages_included  mb_per_month_included  minutes_included  \\\n",
      "0                 50                  15360               500   \n",
      "1               1000                  30720              3000   \n",
      "\n",
      "   usd_monthly_pay  usd_per_gb  usd_per_message  usd_per_minute plan_name  \n",
      "0               20          10             0.03            0.03      surf  \n",
      "1               70           7             0.01            0.01  ultimate  \n",
      "<class 'pandas.core.frame.DataFrame'>\n",
      "RangeIndex: 2 entries, 0 to 1\n",
      "Data columns (total 8 columns):\n",
      " #   Column                 Non-Null Count  Dtype  \n",
      "---  ------                 --------------  -----  \n",
      " 0   messages_included      2 non-null      int64  \n",
      " 1   mb_per_month_included  2 non-null      int64  \n",
      " 2   minutes_included       2 non-null      int64  \n",
      " 3   usd_monthly_pay        2 non-null      int64  \n",
      " 4   usd_per_gb             2 non-null      int64  \n",
      " 5   usd_per_message        2 non-null      float64\n",
      " 6   usd_per_minute         2 non-null      float64\n",
      " 7   plan_name              2 non-null      object \n",
      "dtypes: float64(2), int64(5), object(1)\n",
      "memory usage: 256.0+ bytes\n",
      "None\n"
     ]
    }
   ],
   "source": [
    "# Imprime las condiciones de la tarifa y asegúrate de que te quedan claras\n",
    "\n",
    "print(plans.head())\n",
    "\n",
    "print(plans.info())"
   ]
  },
  {
   "cell_type": "markdown",
   "metadata": {
    "id": "hMR1tP5d0q1F"
   },
   "source": [
    "## Agregar datos por usuario\n",
    "\n",
    "[Ahora que los datos están limpios, agrega los datos por usuario y por periodo para que solo haya un registro por usuario y por periodo. Esto facilitará mucho el análisis posterior.]"
   ]
  },
  {
   "cell_type": "code",
   "execution_count": 9,
   "metadata": {
    "id": "A332cedB0q1G"
   },
   "outputs": [
    {
     "name": "stdout",
     "output_type": "stream",
     "text": [
      "   user_id    month  total_minutes  calls_count\n",
      "0     1000  2018-12         116.83           16\n",
      "1     1001  2018-08         171.14           27\n",
      "2     1001  2018-09         297.69           49\n",
      "3     1001  2018-10         374.11           65\n",
      "4     1001  2018-11         404.59           64\n"
     ]
    }
   ],
   "source": [
    "# Calcula el número de llamadas hechas por cada usuario al mes. Guarda el resultado.\n",
    "\n",
    "import pandas as pd\n",
    "\n",
    "calls = pd.read_csv(\"/datasets/megaline_calls.csv\")\n",
    "\n",
    "calls['call_date'] = pd.to_datetime(calls['call_date'], errors='coerce')\n",
    "\n",
    "pivot_calls = calls.pivot_table(\n",
    "    index=['user_id', pd.Grouper(key='call_date', freq='M')],  \n",
    "    values=['duration'],                                      \n",
    "    aggfunc=['sum', 'count'],                                \n",
    "    fill_value=0                                           \n",
    ").reset_index()\n",
    "\n",
    "pivot_calls.columns = ['user_id', 'month', 'total_minutes', 'calls_count']\n",
    "\n",
    "pivot_calls['month'] = pivot_calls['month'].dt.to_period('M')\n",
    "\n",
    "print(pivot_calls.head())\n"
   ]
  },
  {
   "cell_type": "markdown",
   "metadata": {},
   "source": [
    "\n",
    "<div class=\"alert alert-block alert-warning\">\n",
    "\n",
    "<b>Comentario revisor</b> <a class=\"tocSkip\"></a>\n",
    "\n",
    "Si bien es correcta la forma de agrupar para sacar la duración de las llamadas por cada ususario, para proximas ocasiones puedes hacer uso de la siguiente forma:\n",
    "    \n",
    "    pivot_calls = calls.pivot_table(index=['user_id', 'month'],\n",
    "                                values=['duration'],\n",
    "                                aggfunc=['sum','count']).reset_index()\n",
    "\n",
    "</div>"
   ]
  },
  {
   "cell_type": "markdown",
   "metadata": {},
   "source": [
    "\n",
    "<div class=\"alert alert-block alert-success\">\n",
    "<b>Comentario del revisor</b> <a class=\"tocSkip\"></a>\n",
    "\n",
    "Gran trabajo con el ajuste!"
   ]
  },
  {
   "cell_type": "code",
   "execution_count": 49,
   "metadata": {
    "id": "aw2cmuql0q1G"
   },
   "outputs": [
    {
     "name": "stdout",
     "output_type": "stream",
     "text": [
      "   user_id  call_date  total_minutes    month\n",
      "0     1000 2018-12-31         116.83  2018-12\n",
      "1     1001 2018-08-31         171.14  2018-08\n",
      "2     1001 2018-09-30         297.69  2018-09\n",
      "3     1001 2018-10-31         374.11  2018-10\n",
      "4     1001 2018-11-30         404.59  2018-11\n"
     ]
    }
   ],
   "source": [
    "# Calcula la cantidad de minutos usados por cada usuario al mes. Guarda el resultado.\n",
    "\n",
    "minutes_agg = calls.groupby(['user_id', pd.Grouper(key='call_date', freq='M')])['duration'].sum().reset_index(name='total_minutes')\n",
    "minutes_agg['month'] = minutes_agg['call_date'].dt.to_period('M')\n",
    "\n",
    "print(minutes_agg.head())\n"
   ]
  },
  {
   "cell_type": "code",
   "execution_count": 50,
   "metadata": {
    "id": "CcQvNHn60q1G"
   },
   "outputs": [
    {
     "name": "stdout",
     "output_type": "stream",
     "text": [
      "   user_id message_date  total_messages    month\n",
      "0     1000   2018-12-31              11  2018-12\n",
      "1     1001   2018-08-31              30  2018-08\n",
      "2     1001   2018-09-30              44  2018-09\n",
      "3     1001   2018-10-31              53  2018-10\n",
      "4     1001   2018-11-30              36  2018-11\n"
     ]
    }
   ],
   "source": [
    "# Calcula el número de mensajes enviados por cada usuario al mes. Guarda el resultado.\n",
    "\n",
    "messages_agg = messages.groupby(['user_id', pd.Grouper(key='message_date', freq='M')])['id'].count().reset_index(name='total_messages')\n",
    "messages_agg['month'] = messages_agg['message_date'].dt.to_period('M')\n",
    "\n",
    "print(messages_agg.head())\n",
    "\n"
   ]
  },
  {
   "cell_type": "code",
   "execution_count": 51,
   "metadata": {
    "id": "H1AqN2eG0q1H"
   },
   "outputs": [
    {
     "name": "stdout",
     "output_type": "stream",
     "text": [
      "   user_id session_date  total_mb    month\n",
      "0     1000   2018-12-31   1901.47  2018-12\n",
      "1     1001   2018-08-31   6919.15  2018-08\n",
      "2     1001   2018-09-30  13314.82  2018-09\n",
      "3     1001   2018-10-31  22330.49  2018-10\n",
      "4     1001   2018-11-30  18504.30  2018-11\n"
     ]
    }
   ],
   "source": [
    "# Calcula el volumen del tráfico de Internet usado por cada usuario al mes. Guarda el resultado.\n",
    "\n",
    "internet_agg = internet.groupby(['user_id', pd.Grouper(key='session_date', freq='M')])['mb_used'].sum().reset_index(name='total_mb')\n",
    "internet_agg['month'] = internet_agg['session_date'].dt.to_period('M')\n",
    "\n",
    "print(internet_agg.head())"
   ]
  },
  {
   "cell_type": "markdown",
   "metadata": {
    "id": "VDfYXnj80q1H"
   },
   "source": [
    "[Junta los datos agregados en un DataFrame para que haya un registro que represente lo que consumió un usuario único en un mes determinado.]"
   ]
  },
  {
   "cell_type": "code",
   "execution_count": 52,
   "metadata": {
    "id": "FW99ykyf0q1H"
   },
   "outputs": [
    {
     "name": "stdout",
     "output_type": "stream",
     "text": [
      "   user_id call_date_x  calls_count    month call_date_y  total_minutes  \\\n",
      "0     1000  2018-12-31         16.0  2018-12  2018-12-31         116.83   \n",
      "1     1001  2018-08-31         27.0  2018-08  2018-08-31         171.14   \n",
      "2     1001  2018-09-30         49.0  2018-09  2018-09-30         297.69   \n",
      "3     1001  2018-10-31         65.0  2018-10  2018-10-31         374.11   \n",
      "4     1001  2018-11-30         64.0  2018-11  2018-11-30         404.59   \n",
      "\n",
      "  message_date  total_messages session_date  total_mb  \n",
      "0   2018-12-31            11.0   2018-12-31   1901.47  \n",
      "1   2018-08-31            30.0   2018-08-31   6919.15  \n",
      "2   2018-09-30            44.0   2018-09-30  13314.82  \n",
      "3   2018-10-31            53.0   2018-10-31  22330.49  \n",
      "4   2018-11-30            36.0   2018-11-30  18504.30  \n"
     ]
    }
   ],
   "source": [
    "# Fusiona los datos de llamadas, minutos, mensajes e Internet con base en user_id y month\n",
    "\n",
    "df_agg = calls_agg.merge(minutes_agg, on=['user_id', 'month'], how='outer')\n",
    "df_agg = df_agg.merge(messages_agg, on=['user_id', 'month'], how='outer')\n",
    "df_agg = df_agg.merge(internet_agg, on=['user_id', 'month'], how='outer')\n",
    "\n",
    "print(df_agg.head())"
   ]
  },
  {
   "cell_type": "code",
   "execution_count": 53,
   "metadata": {
    "id": "0dNOXHag0q1H"
   },
   "outputs": [
    {
     "name": "stdout",
     "output_type": "stream",
     "text": [
      "   user_id call_date_x  calls_count    month call_date_y  total_minutes  \\\n",
      "0     1000  2018-12-31         16.0  2018-12  2018-12-31         116.83   \n",
      "1     1001  2018-08-31         27.0  2018-08  2018-08-31         171.14   \n",
      "2     1001  2018-09-30         49.0  2018-09  2018-09-30         297.69   \n",
      "3     1001  2018-10-31         65.0  2018-10  2018-10-31         374.11   \n",
      "4     1001  2018-11-30         64.0  2018-11  2018-11-30         404.59   \n",
      "\n",
      "  message_date  total_messages session_date  total_mb      plan  \n",
      "0   2018-12-31            11.0   2018-12-31   1901.47  ultimate  \n",
      "1   2018-08-31            30.0   2018-08-31   6919.15      surf  \n",
      "2   2018-09-30            44.0   2018-09-30  13314.82      surf  \n",
      "3   2018-10-31            53.0   2018-10-31  22330.49      surf  \n",
      "4   2018-11-30            36.0   2018-11-30  18504.30      surf  \n"
     ]
    }
   ],
   "source": [
    "# Añade la información de la tarifa\n",
    "\n",
    "df_agg = df_agg.merge(users[['user_id', 'plan']], on='user_id', how='left')\n",
    "f_agg = df_agg.merge(plans, left_on='plan', right_on='plan_name', how='left')\n",
    "\n",
    "print(df_agg.head())"
   ]
  },
  {
   "cell_type": "markdown",
   "metadata": {},
   "source": [
    "<div class=\"alert alert-block alert-success\">\n",
    "<b>Comentario del revisor</b> <a class=\"tocSkip\"></a>\n",
    "\n",
    "Muy buen trabajo!! el merge es correcto para unir todas las bases trabajadas.\n",
    "    \n",
    "</div>"
   ]
  },
  {
   "cell_type": "markdown",
   "metadata": {
    "id": "1IwGo4wg0q1I"
   },
   "source": [
    "[Calcula los ingresos mensuales por usuario (resta el límite del paquete gratuito del número total de llamadas, mensajes de texto y datos; multiplica el resultado por el valor del plan de llamadas; añade la tarifa mensual en función del plan de llamadas). Nota: Dadas las condiciones del plan, ¡esto podría no ser tan trivial como un par de líneas! Así que no pasa nada si dedicas algo de tiempo a ello.]"
   ]
  },
  {
   "cell_type": "code",
   "execution_count": 1,
   "metadata": {
    "id": "5FGCf_c60q1I"
   },
   "outputs": [
    {
     "name": "stdout",
     "output_type": "stream",
     "text": [
      "DataFrame consolidado creado:\n",
      "   user_id      plan      month  total_minutes  calls_count  total_messages  \\\n",
      "0     1000  ultimate 2018-12-31          124.0         16.0            11.0   \n",
      "1     1001      surf 2018-08-31          182.0         27.0            30.0   \n",
      "2     1001      surf 2018-09-30          315.0         49.0            44.0   \n",
      "3     1001      surf 2018-10-31          393.0         65.0            53.0   \n",
      "4     1001      surf 2018-11-30          426.0         64.0            36.0   \n",
      "\n",
      "   total_gb  \n",
      "0       4.0  \n",
      "1      21.0  \n",
      "2      41.0  \n",
      "3      50.0  \n",
      "4      49.0  \n"
     ]
    }
   ],
   "source": [
    "# Calcula el ingreso mensual para cada usuario\n",
    "\n",
    "import pandas as pd\n",
    "import math\n",
    "\n",
    "users = pd.read_csv(\"/datasets/megaline_users.csv\")\n",
    "calls = pd.read_csv(\"/datasets/megaline_calls.csv\")\n",
    "messages = pd.read_csv(\"/datasets/megaline_messages.csv\")\n",
    "internet = pd.read_csv(\"/datasets/megaline_internet.csv\")\n",
    "plans = pd.read_csv(\"/datasets/megaline_plans.csv\")\n",
    "\n",
    "calls['call_date'] = pd.to_datetime(calls['call_date'], errors='coerce')\n",
    "messages['message_date'] = pd.to_datetime(messages['message_date'], errors='coerce')\n",
    "internet['session_date'] = pd.to_datetime(internet['session_date'], errors='coerce')\n",
    "\n",
    "calls_agg = calls.groupby(['user_id', pd.Grouper(key='call_date', freq='M')]).agg(\n",
    "    total_minutes=('duration', lambda x: sum(math.ceil(val) for val in x)),  \n",
    "    calls_count=('duration', 'count')\n",
    ").reset_index()\n",
    "\n",
    "messages_agg = messages.groupby(['user_id', pd.Grouper(key='message_date', freq='M')]).agg(\n",
    "    total_messages=('id', 'count')\n",
    ").reset_index()\n",
    "\n",
    "internet['gb_used'] = internet['mb_used'].apply(lambda x: math.ceil(x / 1024))  \n",
    "internet_agg = internet.groupby(['user_id', pd.Grouper(key='session_date', freq='M')]).agg(\n",
    "    total_gb=('gb_used', 'sum')\n",
    ").reset_index()\n",
    "\n",
    "df_agg = users[['user_id', 'plan']].copy()\n",
    "df_agg = df_agg.merge(\n",
    "    calls_agg.rename(columns={'call_date': 'month'}),\n",
    "    on=['user_id'],\n",
    "    how='left'\n",
    ").merge(\n",
    "    messages_agg.rename(columns={'message_date': 'month'}),\n",
    "    on=['user_id', 'month'],\n",
    "    how='left'\n",
    ").merge(\n",
    "    internet_agg.rename(columns={'session_date': 'month'}),\n",
    "    on=['user_id', 'month'],\n",
    "    how='left'\n",
    ")\n",
    "\n",
    "df_agg.fillna({\n",
    "    'total_minutes': 0,\n",
    "    'calls_count': 0,\n",
    "    'total_messages': 0,\n",
    "    'total_gb': 0\n",
    "}, inplace=True)\n",
    "\n",
    "print(\"DataFrame consolidado creado:\")\n",
    "print(df_agg.head())"
   ]
  },
  {
   "cell_type": "markdown",
   "metadata": {},
   "source": [
    "<div class=\"alert alert-block alert-danger\">\n",
    "<b>Comentario del revisor</b> <a class=\"tocSkip\"></a>\n",
    "\n",
    "Muy buen trabajo!! Solamente para hacer el calculo debemos de considerar los excedentes en cada una de las variables y los costos de cada uno de los planes"
   ]
  },
  {
   "cell_type": "markdown",
   "metadata": {},
   "source": [
    "\n",
    "<div class=\"alert alert-block alert-success\">\n",
    "<b>Comentario del revisor</b> <a class=\"tocSkip\"></a>\n",
    "\n",
    "Gran trabajo con el ajuste!"
   ]
  },
  {
   "cell_type": "markdown",
   "metadata": {
    "id": "-jtyHzJb0q1I"
   },
   "source": [
    "## Estudia el comportamiento de usuario"
   ]
  },
  {
   "cell_type": "markdown",
   "metadata": {
    "id": "AxU3Y0N70q1J"
   },
   "source": [
    "[Calcula algunas estadísticas descriptivas para los datos agregados y fusionados que nos sean útiles y que muestren un panorama general captado por los datos. Dibuja gráficos útiles para facilitar la comprensión. Dado que la tarea principal es comparar las tarifas y decidir cuál es más rentable, las estadísticas y gráficas deben calcularse por tarifa.]\n",
    "\n",
    "[En los comentarios hallarás pistas relevantes para las llamadas, pero no las hay para los mensajes e Internet. Sin embargo, el principio del estudio estadístico que se aplica para ellos es el mismo que para las llamadas.]"
   ]
  },
  {
   "cell_type": "markdown",
   "metadata": {
    "id": "vtW4CJEe0q1J"
   },
   "source": [
    "### Llamadas"
   ]
  },
  {
   "cell_type": "code",
   "execution_count": 62,
   "metadata": {
    "id": "Jf5v5--k0q1J"
   },
   "outputs": [
    {
     "data": {
      "image/png": "[encoded data removed]",
      "text/plain": [
       "<Figure size 1200x600 with 1 Axes>"
      ]
     },
     "metadata": {},
     "output_type": "display_data"
    }
   ],
   "source": [
    "# Compara la duración promedio de llamadas por cada plan y por cada mes. Traza un gráfico de barras para visualizarla.\n",
    "\n",
    "import matplotlib.pyplot as plt\n",
    "import seaborn as sns\n",
    "\n",
    "avg_duration_by_plan_month = df_agg.groupby(['plan', 'month'])['total_minutes'].mean().reset_index()\n",
    "\n",
    "plt.figure(figsize=(12, 6))\n",
    "sns.barplot(data=avg_duration_by_plan_month, x='month', y='total_minutes', hue='plan', palette='viridis')\n",
    "\n",
    "plt.title('Duración Promedio de Llamadas por Plan y Mes', fontsize=16)\n",
    "plt.xlabel('Mes', fontsize=12)\n",
    "plt.ylabel('Duración Promedio (minutos)', fontsize=12)\n",
    "plt.xticks(rotation=45)\n",
    "plt.legend(title='Plan')\n",
    "\n",
    "plt.tight_layout()\n",
    "plt.show()"
   ]
  },
  {
   "cell_type": "code",
   "execution_count": 63,
   "metadata": {
    "id": "QoLqW1S_0q1J"
   },
   "outputs": [
    {
     "data": {
      "image/png": "[encoded data removed]",
      "text/plain": [
       "<Figure size 1200x600 with 1 Axes>"
      ]
     },
     "metadata": {},
     "output_type": "display_data"
    }
   ],
   "source": [
    "# Compara el número de minutos mensuales que necesitan los usuarios de cada plan. Traza un histograma.\n",
    "\n",
    "plt.figure(figsize=(12, 6))\n",
    "\n",
    "sns.histplot(data=df_agg, x='total_minutes', hue='plan', kde=True, multiple='stack', palette='viridis')\n",
    "\n",
    "plt.title('Distribución de Minutos Mensuales por Plan', fontsize=16)\n",
    "plt.xlabel('Minutos Mensuales', fontsize=12)\n",
    "plt.ylabel('Frecuencia', fontsize=12)\n",
    "\n",
    "plt.tight_layout()\n",
    "plt.show()"
   ]
  },
  {
   "cell_type": "markdown",
   "metadata": {
    "id": "bLS9T8OH0q1K"
   },
   "source": [
    "[Calcula la media y la variable de la duración de las llamadas para averiguar si los usuarios de los distintos planes se comportan de forma diferente al realizar sus llamadas.]"
   ]
  },
  {
   "cell_type": "code",
   "execution_count": 65,
   "metadata": {
    "id": "oSndbAnt0q1K"
   },
   "outputs": [
    {
     "name": "stdout",
     "output_type": "stream",
     "text": [
      "Media de minutos mensuales de llamadas: 411.49 minutos\n",
      "Varianza de minutos mensuales de llamadas: 48088.30 minutos²\n"
     ]
    }
   ],
   "source": [
    "# Calcula la media y la varianza de la duración mensual de llamadas.\n",
    "\n",
    "mean_minutes = df_agg['total_minutes'].mean()\n",
    "variance_minutes = df_agg['total_minutes'].var()\n",
    "\n",
    "print(f'Media de minutos mensuales de llamadas: {mean_minutes:.2f} minutos')\n",
    "print(f'Varianza de minutos mensuales de llamadas: {variance_minutes:.2f} minutos²')"
   ]
  },
  {
   "cell_type": "code",
   "execution_count": 13,
   "metadata": {
    "id": "nZzoRUKc0q1K"
   },
   "outputs": [
    {
     "data": {
      "image/png": "[encoded data removed]",
      "text/plain": [
       "<Figure size 1000x600 with 1 Axes>"
      ]
     },
     "metadata": {},
     "output_type": "display_data"
    }
   ],
   "source": [
    "# Traza un diagrama de caja para visualizar la distribución de la duración mensual de llamadas\n",
    "\n",
    "import pandas as pd\n",
    "import matplotlib.pyplot as plt\n",
    "import seaborn as sns\n",
    "\n",
    "users = pd.read_csv(\"/datasets/megaline_users.csv\")\n",
    "calls = pd.read_csv(\"/datasets/megaline_calls.csv\")\n",
    "messages = pd.read_csv(\"/datasets/megaline_messages.csv\")\n",
    "internet = pd.read_csv(\"/datasets/megaline_internet.csv\")\n",
    "plans = pd.read_csv(\"/datasets/megaline_plans.csv\")\n",
    "\n",
    "calls['call_date'] = pd.to_datetime(calls['call_date'])\n",
    "users['reg_date'] = pd.to_datetime(users['reg_date'])\n",
    "\n",
    "\n",
    "calls_agg = calls.groupby(['user_id', pd.Grouper(key='call_date', freq='M')])['duration'].sum().reset_index()\n",
    "calls_agg.rename(columns={'duration': 'total_minutes'}, inplace=True)\n",
    "\n",
    "df_agg = calls_agg.merge(users[['user_id', 'plan']], on='user_id', how='left')\n",
    "\n",
    "\n",
    "plt.figure(figsize=(10, 6))\n",
    "sns.boxplot(\n",
    "    data=df_agg,\n",
    "    x='plan',\n",
    "    y='total_minutes',\n",
    "    palette='viridis',\n",
    "    showfliers=True\n",
    ")\n",
    "plt.title('Distribución de Minutos de Llamadas por Plan')\n",
    "plt.xlabel('Plan')\n",
    "plt.ylabel('Minutos Mensuales')\n",
    "\n",
    "plt.axhline(y=500, color='red', linestyle='--', label='Límite Surf (500 min)')\n",
    "plt.axhline(y=3000, color='blue', linestyle='--', label='Límite Ultimate (3000 min)')\n",
    "plt.legend()\n",
    "\n",
    "plt.show()"
   ]
  },
  {
   "cell_type": "markdown",
   "metadata": {
    "id": "r627zBO50q1K"
   },
   "source": [
    "[Elabora las conclusiones sobre el comportamiento de los usuarios con respecto a las llamadas. ¿Su comportamiento varía en función del plan?]\n",
    "\n",
    "* Podemos visualizar que el consumo promedio es menor de 500 minutos lo que significa que a la mayoria de los usuarios les conviene el plan Surf (Se ahorrarian 50 USD de pago mensual)."
   ]
  },
  {
   "cell_type": "markdown",
   "metadata": {
    "id": "8idKy8Wh0q1L"
   },
   "source": [
    "### Mensajes"
   ]
  },
  {
   "cell_type": "code",
   "execution_count": 15,
   "metadata": {
    "id": "NXLxiTit0q1L"
   },
   "outputs": [
    {
     "name": "stdout",
     "output_type": "stream",
     "text": [
      "\n",
      "Estadísticas descriptivas:\n",
      "               mean   50%    max\n",
      "plan                            \n",
      "surf      40.109656  32.0  266.0\n",
      "ultimate  46.296233  41.0  166.0\n"
     ]
    },
    {
     "data": {
      "image/png": "[encoded data removed]",
      "text/plain": [
       "<Figure size 1000x500 with 1 Axes>"
      ]
     },
     "metadata": {},
     "output_type": "display_data"
    },
    {
     "name": "stdout",
     "output_type": "stream",
     "text": [
      "\n",
      "Porcentaje que excede límites:\n",
      "- Surf: 27.8% excede 50 mensajes\n",
      "- Ultimate: 0.0% excede 1000 mensajes\n"
     ]
    }
   ],
   "source": [
    "# Compara el número de mensajes que tienden a enviar cada mes los usuarios de cada plan\n",
    "\n",
    "import pandas as pd\n",
    "messages = pd.read_csv(\"/datasets/megaline_messages.csv\")\n",
    "\n",
    "import pandas as pd\n",
    "import matplotlib.pyplot as plt\n",
    "import seaborn as sns\n",
    "\n",
    "users = pd.read_csv(\"/datasets/megaline_users.csv\")\n",
    "messages = pd.read_csv(\"/datasets/megaline_messages.csv\")\n",
    "plans = pd.read_csv(\"/datasets/megaline_plans.csv\")\n",
    "\n",
    "messages['message_date'] = pd.to_datetime(messages['message_date'])\n",
    "users['plan'] = users['plan'].str.lower()  \n",
    "\n",
    "messages_agg = messages.groupby([\n",
    "    'user_id',\n",
    "    pd.Grouper(key='message_date', freq='M')\n",
    "]).size().reset_index(name='total_messages')\n",
    "\n",
    "df_analysis = messages_agg.merge(users[['user_id', 'plan']], on='user_id')\n",
    "\n",
    "print(\"\\nEstadísticas descriptivas:\")\n",
    "print(df_analysis.groupby('plan')['total_messages'].describe()[['mean', '50%', 'max']])\n",
    "\n",
    "plt.figure(figsize=(10, 5))\n",
    "sns.boxplot(x='plan', y='total_messages', data=df_analysis, showfliers=False)\n",
    "plt.title('Distribución de Mensajes por Plan')\n",
    "plt.ylabel('Mensajes por mes')\n",
    "plt.xlabel('Plan')\n",
    "plt.show()\n",
    "\n",
    "print(\"\\nPorcentaje que excede límites:\")\n",
    "for plan in ['surf', 'ultimate']:\n",
    "    limite = plans.loc[plans['plan_name'] == plan, 'messages_included'].values[0]\n",
    "    excede = (df_analysis[df_analysis['plan'] == plan]['total_messages'] > limite).mean()\n",
    "    print(f\"- {plan.title()}: {excede:.1%} excede {limite} mensajes\")\n",
    "\n"
   ]
  },
  {
   "cell_type": "code",
   "execution_count": 17,
   "metadata": {
    "id": "GRI_R7xF0q1L"
   },
   "outputs": [
    {
     "name": "stdout",
     "output_type": "stream",
     "text": [
      "               mean  median       std    max\n",
      "plan                                        \n",
      "surf      16.325931   16.53  7.699979  69.27\n",
      "ultimate  16.834645   16.47  7.647426  45.50\n",
      "  plan_name  mb_per_month_included  gb_included\n",
      "0      surf                  15360         15.0\n",
      "1  ultimate                  30720         30.0\n"
     ]
    }
   ],
   "source": [
    "# Compara la cantidad de tráfico de Internet consumido por usuarios por plan\n",
    "\n",
    "import pandas as pd\n",
    "import matplotlib.pyplot as plt\n",
    "import seaborn as sns\n",
    "\n",
    "internet = pd.read_csv(\"/datasets/megaline_internet.csv\")\n",
    "users = pd.read_csv(\"/datasets/megaline_users.csv\")\n",
    "plans = pd.read_csv(\"/datasets/megaline_plans.csv\")\n",
    "\n",
    "internet['session_date'] = pd.to_datetime(internet['session_date'])\n",
    "\n",
    "internet_agg = internet.groupby(['user_id', pd.Grouper(key='session_date', freq='M')])['mb_used'].sum().reset_index()\n",
    "internet_agg['gb_used'] = internet_agg['mb_used'] / 1024  \n",
    "internet_agg['gb_used'] = internet_agg['gb_used'].apply(lambda x: round(x, 2))  \n",
    "\n",
    "df_internet = internet_agg.merge(users[['user_id', 'plan']], on='user_id')\n",
    "\n",
    "stats_internet = df_internet.groupby('plan')['gb_used'].agg(['mean', 'median', 'std', 'max'])\n",
    "print(stats_internet)\n",
    "\n",
    "print(plans[['plan_name', 'mb_per_month_included']].assign(gb_included=lambda x: x['mb_per_month_included']/1024))"
   ]
  },
  {
   "cell_type": "code",
   "execution_count": 22,
   "metadata": {
    "id": "dtFwCGAp0q1M"
   },
   "outputs": [
    {
     "data": {
      "image/png": "[encoded data removed]",
      "text/plain": [
       "<Figure size 1000x600 with 1 Axes>"
      ]
     },
     "metadata": {},
     "output_type": "display_data"
    },
    {
     "data": {
      "image/png": "[encoded data removed]",
      "text/plain": [
       "<Figure size 1200x600 with 1 Axes>"
      ]
     },
     "metadata": {},
     "output_type": "display_data"
    },
    {
     "name": "stdout",
     "output_type": "stream",
     "text": [
      "Surf: 58.5% de usuarios excede 15 GB\n",
      "Ultimate: 5.7% de usuarios excede 30 GB\n",
      "      user_id session_date   mb_used  gb_used  plan  gb_excedidos  month\n",
      "1752     1379   2018-12-31  70931.59    69.27  surf         54.27     12\n",
      "569      1121   2018-12-31  66863.89    65.30  surf         50.30     12\n",
      "1359     1292   2018-12-31  52034.66    50.82  surf         35.82     12\n",
      "1355     1292   2018-08-31  51809.35    50.60  surf         35.60      8\n",
      "1126     1240   2018-08-31  49950.58    48.78  surf         33.78      8\n"
     ]
    }
   ],
   "source": [
    "plt.figure(figsize=(10, 6))\n",
    "sns.boxplot(\n",
    "    data=df_internet,\n",
    "    x='plan',\n",
    "    y='gb_used',\n",
    "    palette='viridis',\n",
    "    showfliers=False \n",
    ")\n",
    "plt.axhline(y=15, color='red', linestyle='--', label='Límite Surf (15 GB)')\n",
    "plt.axhline(y=30, color='blue', linestyle='--', label='Límite Ultimate (30 GB)')\n",
    "plt.title('Distribución de Consumo de Internet por Plan')\n",
    "plt.ylabel('GB Consumidos/Mes')\n",
    "plt.xlabel('Plan')\n",
    "plt.legend()\n",
    "plt.show()\n",
    "\n",
    "\n",
    "\n",
    "plt.figure(figsize=(12, 6))\n",
    "sns.histplot(\n",
    "    data=df_internet,\n",
    "    x='gb_used',\n",
    "    hue='plan',\n",
    "    bins=20,\n",
    "    kde=True,\n",
    "    palette='viridis',\n",
    "    alpha=0.6\n",
    ")\n",
    "plt.axvline(x=15, color='red', linestyle='--')\n",
    "plt.axvline(x=30, color='blue', linestyle='--')\n",
    "plt.title('Distribución de Consumo de Datos (GB)')\n",
    "plt.xlabel('GB/Mes')\n",
    "plt.ylabel('Número de Usuarios')\n",
    "plt.show()\n",
    "\n",
    "\n",
    "\n",
    "df_internet['gb_excedidos'] = df_internet.apply(\n",
    "    lambda row: max(0, row['gb_used'] - plans.loc[plans['plan_name'] == row['plan'], 'mb_per_month_included'].values[0]/1024),\n",
    "    axis=1\n",
    ")\n",
    "\n",
    "\n",
    "for plan in ['surf', 'ultimate']:\n",
    "    limite = plans.loc[plans['plan_name'] == plan, 'mb_per_month_included'].values[0]/1024\n",
    "    porcentaje = (df_internet[df_internet['plan'] == plan]['gb_excedidos'] > 0).mean() * 100\n",
    "    print(f\"{plan.title()}: {porcentaje:.1f}% de usuarios excede {limite:.0f} GB\")\n",
    "    \n",
    "    \n",
    "\n",
    "print(df_internet.sort_values('gb_used', ascending=False).head(5))\n"
   ]
  },
  {
   "cell_type": "markdown",
   "metadata": {
    "id": "390SSL480q1M"
   },
   "source": [
    "[Elabora las conclusiones sobre el comportamiento de los usuarios con respecto a los mensajes. ¿Su comportamiento varía en función del plan?]\n",
    "\n",
    "* Con respecto a los mensajes el 27.8% de los usuarios de \"Surf\" excenden los 50 mensajes en comparacion del 0.0% de los usuarios \"Ultimate\". Podemos recomendar que prueben el cambiarse a \"Ultimate\"."
   ]
  },
  {
   "cell_type": "markdown",
   "metadata": {
    "id": "42YSypXz0q1M"
   },
   "source": [
    "### Internet"
   ]
  },
  {
   "cell_type": "code",
   "execution_count": null,
   "metadata": {
    "id": "lSuKPtjh0q1M"
   },
   "outputs": [],
   "source": []
  },
  {
   "cell_type": "code",
   "execution_count": null,
   "metadata": {
    "id": "wnh8jYXi0q1N"
   },
   "outputs": [],
   "source": []
  },
  {
   "cell_type": "code",
   "execution_count": null,
   "metadata": {
    "id": "5VlyJ9ry0q1N"
   },
   "outputs": [],
   "source": []
  },
  {
   "cell_type": "markdown",
   "metadata": {
    "id": "UN9zwuMP0q1N"
   },
   "source": [
    "[Elabora las conclusiones sobre cómo los usuarios tienden a consumir el tráfico de Internet. ¿Su comportamiento varía en función del plan?]\n",
    "\n",
    "* Podemos visualizar que el 58.5% de los usuarios exceden los 15 GB, lo cual podemos deducir que los usuarios podrian optar por cambiarse al plan Ultimate"
   ]
  },
  {
   "cell_type": "markdown",
   "metadata": {
    "id": "tCijq3260q1N"
   },
   "source": [
    "## Ingreso"
   ]
  },
  {
   "cell_type": "markdown",
   "metadata": {
    "id": "9nq5IAcy0q1O"
   },
   "source": [
    "[Del mismo modo que has estudiado el comportamiento de los usuarios, describe estadísticamente los ingresos de los planes.]"
   ]
  },
  {
   "cell_type": "code",
   "execution_count": 26,
   "metadata": {
    "id": "tz-dq_V00q1O"
   },
   "outputs": [
    {
     "name": "stdout",
     "output_type": "stream",
     "text": [
      "               mean        50%       std        max\n",
      "plan                                               \n",
      "surf      16.325881  16.527178  7.699886  69.269131\n",
      "ultimate  16.834612  16.468213  7.647479  45.503252\n"
     ]
    }
   ],
   "source": [
    "df_internet = internet.groupby(['user_id', pd.Grouper(key='session_date', freq='M')])['mb_used'].sum().reset_index()\n",
    "df_internet['gb_used'] = df_internet['mb_used'] / 1024  \n",
    "df_internet = df_internet.merge(users[['user_id', 'plan']], on='user_id')  \n",
    "\n",
    "stats = df_internet.groupby('plan')['gb_used'].describe()[['mean', '50%', 'std', 'max']]\n",
    "print(stats)"
   ]
  },
  {
   "cell_type": "code",
   "execution_count": 27,
   "metadata": {
    "id": "0Y1v8ZUz0q1P"
   },
   "outputs": [
    {
     "data": {
      "image/png": "[encoded data removed]",
      "text/plain": [
       "<Figure size 800x500 with 1 Axes>"
      ]
     },
     "metadata": {},
     "output_type": "display_data"
    }
   ],
   "source": [
    "plt.figure(figsize=(8, 5))\n",
    "sns.boxplot(data=df_internet, x='plan', y='gb_used', showfliers=False)\n",
    "plt.axhline(y=15, color='red', linestyle='--', label='Límite Surf (15 GB)')\n",
    "plt.axhline(y=30, color='blue', linestyle='--', label='Límite Ultimate (30 GB)')\n",
    "plt.title('Consumo de Datos por Plan')\n",
    "plt.ylabel('GB/mes')\n",
    "plt.legend()\n",
    "plt.show()"
   ]
  },
  {
   "cell_type": "code",
   "execution_count": 29,
   "metadata": {
    "id": "bYmwxyVh0q1P"
   },
   "outputs": [
    {
     "name": "stdout",
     "output_type": "stream",
     "text": [
      "Surf: 58.5% excede 15 GB\n",
      "Ultimate: 5.7% excede 30 GB\n"
     ]
    }
   ],
   "source": [
    "for plan in ['surf', 'ultimate']:\n",
    "    limite = 15 if plan == 'surf' else 30\n",
    "    exceden = (df_internet[df_internet['plan'] == plan]['gb_used'] > limite).mean() * 100\n",
    "    print(f\"{plan.title()}: {exceden:.1f}% excede {limite} GB\")"
   ]
  },
  {
   "cell_type": "markdown",
   "metadata": {
    "id": "KAFidcXZ0q1P"
   },
   "source": [
    "[Elabora las conclusiones sobre cómo difiere el ingreso entre los planes.]"
   ]
  },
  {
   "cell_type": "markdown",
   "metadata": {},
   "source": [
    "<div class=\"alert alert-block alert-success\">\n",
    "<b>Comentario revisor</b> <a class=\"tocSkip\"></a>\n",
    "\n",
    " Muy buena prática la de usar distintos tipos de gráficas identificar algunos hallazgos y llegar a conclusiones. En este caso las gráficas de box-plots nos ayudan a identificar outiers que pueden sesgar nuestros resultados, especificamente las pruebas de hipótesis. Es por ello que con estás gráficas puedes complementar el análisis eliminando los valores atipicos. \n",
    "</div>"
   ]
  },
  {
   "cell_type": "markdown",
   "metadata": {
    "id": "ajJ7VKeI0q1Q"
   },
   "source": [
    "## Prueba las hipótesis estadísticas"
   ]
  },
  {
   "cell_type": "markdown",
   "metadata": {
    "id": "AdXAZ-yL0q1Q"
   },
   "source": [
    "[Prueba la hipótesis de que son diferentes los ingresos promedio procedentes de los usuarios de los planes de llamada Ultimate y Surf.]"
   ]
  },
  {
   "cell_type": "markdown",
   "metadata": {
    "id": "IQwa_hsh0q1Q"
   },
   "source": [
    "[Elabora las hipótesis nula y alternativa, escoge la prueba estadística, determina el valor alfa.]"
   ]
  },
  {
   "cell_type": "code",
   "execution_count": 21,
   "metadata": {
    "id": "nFoPNlPq0q1R"
   },
   "outputs": [
    {
     "name": "stdout",
     "output_type": "stream",
     "text": [
      "DataFrame df_agg creado exitosamente:\n",
      "   user_id      plan      month  total_minutes  calls_count  total_messages  \\\n",
      "0     1000  ultimate 2018-12-31          124.0         16.0            11.0   \n",
      "1     1001      surf 2018-08-31          182.0         27.0            30.0   \n",
      "2     1001      surf 2018-09-30          315.0         49.0            44.0   \n",
      "3     1001      surf 2018-10-31          393.0         65.0            53.0   \n",
      "4     1001      surf 2018-11-30          426.0         64.0            36.0   \n",
      "\n",
      "   total_gb  \n",
      "0       4.0  \n",
      "1      21.0  \n",
      "2      41.0  \n",
      "3      50.0  \n",
      "4      49.0  \n"
     ]
    }
   ],
   "source": [
    "# Prueba las hipótesis\n",
    "\n",
    "import pandas as pd\n",
    "import math\n",
    "\n",
    "users = pd.read_csv(\"/datasets/megaline_users.csv\")\n",
    "calls = pd.read_csv(\"/datasets/megaline_calls.csv\")\n",
    "messages = pd.read_csv(\"/datasets/megaline_messages.csv\")\n",
    "internet = pd.read_csv(\"/datasets/megaline_internet.csv\")\n",
    "plans = pd.read_csv(\"/datasets/megaline_plans.csv\")\n",
    "\n",
    "calls['call_date'] = pd.to_datetime(calls['call_date'], errors='coerce')\n",
    "messages['message_date'] = pd.to_datetime(messages['message_date'], errors='coerce')\n",
    "internet['session_date'] = pd.to_datetime(internet['session_date'], errors='coerce')\n",
    "\n",
    "\n",
    "calls_agg = calls.groupby(['user_id', pd.Grouper(key='call_date', freq='M')]).agg(\n",
    "    total_minutes=('duration', lambda x: sum(math.ceil(val) for val in x)),\n",
    "    calls_count=('id', 'count')\n",
    ").reset_index()\n",
    "\n",
    "messages_agg = messages.groupby(['user_id', pd.Grouper(key='message_date', freq='M')]).agg(\n",
    "    total_messages=('id', 'count')\n",
    ").reset_index()\n",
    "\n",
    "internet['gb_used'] = internet['mb_used'].apply(lambda x: math.ceil(x/1024))\n",
    "internet_agg = internet.groupby(['user_id', pd.Grouper(key='session_date', freq='M')]).agg(\n",
    "    total_gb=('gb_used', 'sum')\n",
    ").reset_index()\n",
    "\n",
    "df_agg = users[['user_id', 'plan']].copy()\n",
    "df_agg = df_agg.merge(\n",
    "    calls_agg.rename(columns={'call_date': 'month'}),\n",
    "    on='user_id',\n",
    "    how='left'\n",
    ").merge(\n",
    "    messages_agg.rename(columns={'message_date': 'month'}),\n",
    "    on=['user_id', 'month'],\n",
    "    how='left'\n",
    ").merge(\n",
    "    internet_agg.rename(columns={'session_date': 'month'}),\n",
    "    on=['user_id', 'month'],\n",
    "    how='left'\n",
    ")\n",
    "\n",
    "df_agg.fillna({\n",
    "    'total_minutes': 0,\n",
    "    'calls_count': 0,\n",
    "    'total_messages': 0,\n",
    "    'total_gb': 0\n",
    "}, inplace=True)\n",
    "\n",
    "print(\"DataFrame df_agg creado exitosamente:\")\n",
    "print(df_agg.head())\n",
    "\n",
    "\n",
    "def calcular_ingreso(row):\n",
    "    plan_data = plans[plans['plan_name'] == row['plan']].iloc[0]\n",
    "    \n",
    "    extra_min = max(0, row['total_minutes'] - plan_data['minutes_included']) * plan_data['usd_per_minute']\n",
    "    extra_sms = max(0, row['total_messages'] - plan_data['messages_included']) * plan_data['usd_per_message']\n",
    "    extra_gb = max(0, (row['total_gb'] - (plan_data['mb_per_month_included']/1024))) * plan_data['usd_per_gb']\n",
    "    \n",
    "    return plan_data['usd_monthly_pay'] + extra_min + extra_sms + extra_gb\n",
    "\n",
    "df_agg['monthly_revenue'] = df_agg.apply(calcular_ingreso, axis=1)\n"
   ]
  },
  {
   "cell_type": "markdown",
   "metadata": {},
   "source": [
    "<div class=\"alert alert-block alert-danger\">\n",
    "<b>Comentario revisor</b> <a class=\"tocSkip\"></a>\n",
    "\n",
    "Te recomiendo hacer el calculo del ingreso mensual por usuario en la parte de arriba. En la función el return marca error dado que la función max anterior tiene un parentesis faltante"
   ]
  },
  {
   "cell_type": "markdown",
   "metadata": {},
   "source": [
    "\n",
    "<div class=\"alert alert-block alert-danger\">\n",
    "<b>Comentario del revisor</b> <a class=\"tocSkip\"></a>\n",
    "\n",
    "Gran trabajo con el ajuste! Ya con esto puedes continuar con el desarrollo de las pruebas de hipótesis"
   ]
  },
  {
   "cell_type": "markdown",
   "metadata": {},
   "source": [
    "\n",
    "<div class=\"alert alert-block alert-success\">\n",
    "<b>Comentario del revisor</b> <a class=\"tocSkip\"></a>\n",
    "\n",
    "Gran trabajo con el ajuste!"
   ]
  },
  {
   "cell_type": "markdown",
   "metadata": {
    "id": "tCcAruM60q1R"
   },
   "source": [
    "[Prueba la hipótesis de que el ingreso promedio de los usuarios del área NY-NJ es diferente al de los usuarios de otras regiones.]"
   ]
  },
  {
   "cell_type": "markdown",
   "metadata": {
    "id": "LsBgitqj0q1R"
   },
   "source": [
    "[Elabora las hipótesis nula y alternativa, escoge la prueba estadística, determina el valor alfa.]"
   ]
  },
  {
   "cell_type": "code",
   "execution_count": 9,
   "metadata": {
    "id": "Cqcj7wrZ0q1S"
   },
   "outputs": [
    {
     "name": "stdout",
     "output_type": "stream",
     "text": [
      "Index(['user_id', 'plan', 'month', 'total_minutes', 'calls_count',\n",
      "       'total_messages', 'total_gb', 'monthly_revenue', 'is_ny_nj'],\n",
      "      dtype='object')\n",
      "Estadístico t: 1.92\n",
      "Valor p: 0.0548\n",
      "No rechazamos H0: No hay diferencia significativa.\n"
     ]
    }
   ],
   "source": [
    "# Prueba las hipótesis\n",
    "\n",
    "def calcular_ingreso(row):\n",
    "    plan_data = plans[plans['plan_name'] == row['plan']].iloc[0]\n",
    "    gb_included = plan_data['mb_per_month_included'] / 1024 \n",
    "    \n",
    "    extra_min = max(0, row['total_minutes'] - plan_data['minutes_included']) * plan_data['usd_per_minute']\n",
    "    extra_msg = max(0, row['total_messages'] - plan_data['messages_included']) * plan_data['usd_per_message']\n",
    "    extra_gb = max(0, row['total_gb'] - gb_included) * plan_data['usd_per_gb']\n",
    "    \n",
    "    return plan_data['usd_monthly_pay'] + extra_min + extra_msg + extra_gb\n",
    "\n",
    "df_agg['monthly_revenue'] = df_agg.apply(calcular_ingreso, axis=1)\n",
    "\n",
    "users['is_ny_nj'] = users['city'].str.contains('NY|NJ', case=False, regex=True)\n",
    "\n",
    "df_agg_with_region = df_agg.merge(\n",
    "    users[['user_id', 'is_ny_nj']], \n",
    "    on='user_id', \n",
    "    how='left'\n",
    ")\n",
    "\n",
    "print(df_agg_with_region.columns) \n",
    "\n",
    "ny_nj_revenue = df_agg_with_region[df_agg_with_region['is_ny_nj']]['monthly_revenue']\n",
    "other_revenue = df_agg_with_region[~df_agg_with_region['is_ny_nj']]['monthly_revenue']\n",
    "\n",
    "from scipy.stats import ttest_ind\n",
    "t_stat, p_value = ttest_ind(ny_nj_revenue, other_revenue, equal_var=False)\n",
    "\n",
    "print(f\"Estadístico t: {t_stat:.2f}\")\n",
    "print(f\"Valor p: {p_value:.4f}\")\n",
    "if p_value < 0.05:\n",
    "    print(\"Rechazamos H0: Ingresos difieren significativamente por región.\")\n",
    "else:\n",
    "    print(\"No rechazamos H0: No hay diferencia significativa.\")"
   ]
  },
  {
   "cell_type": "markdown",
   "metadata": {},
   "source": [
    "\n",
    "<div class=\"alert alert-block alert-success\">\n",
    "<b>Comentario del revisor</b> <a class=\"tocSkip\"></a>\n",
    "\n",
    "Gran trabajo con el ajuste!"
   ]
  },
  {
   "cell_type": "markdown",
   "metadata": {
    "id": "bbTR8UQO0q1T"
   },
   "source": [
    "## Conclusión general\n",
    "\n",
    "[En esta sección final, enumera tus conclusiones importantes. Asegúrate de que estas abarquen todas las decisiones (suposiciones) importantes que adoptaste y que determinaron la forma elegida para procesar y analizar los datos.]"
   ]
  },
  {
   "cell_type": "code",
   "execution_count": 17,
   "metadata": {},
   "outputs": [
    {
     "name": "stdout",
     "output_type": "stream",
     "text": [
      "El plan Surf genera ingresos extras por los excedentes de uso de los usuarios, va dirigido a personas con nivel bajo consumo y el plan Ultimate para usuarios con mayor consumo que evitan pagar costos extras al estar en el plan Surf. Sugiero que el plan Surf sea dirigido a personas que tengan estancias cortas y el plan ultimate a familias/empresas.\n"
     ]
    }
   ],
   "source": [
    "print(\"El plan Surf genera ingresos extras por los excedentes de uso de los usuarios, va dirigido a personas con nivel bajo consumo y el plan Ultimate para usuarios con mayor consumo que evitan pagar costos extras al estar en el plan Surf. Sugiero que el plan Surf sea dirigido a personas que tengan estancias cortas y el plan ultimate a familias/empresas.\")"
   ]
  },
  {
   "cell_type": "code",
   "execution_count": null,
   "metadata": {},
   "outputs": [],
   "source": []
  }
 ],
 "metadata": {
  "ExecuteTimeLog": [
   {
    "duration": 828,
    "start_time": "2021-11-16T09:21:11.304Z"
   },
   {
    "duration": 893,
    "start_time": "2021-11-16T09:21:17.728Z"
   },
   {
    "duration": 1150,
    "start_time": "2021-11-16T09:21:29.568Z"
   },
   {
    "duration": 3,
    "start_time": "2021-11-16T09:24:14.495Z"
   },
   {
    "duration": 120,
    "start_time": "2021-11-16T09:24:46.630Z"
   },
   {
    "duration": 3,
    "start_time": "2021-11-16T09:28:27.882Z"
   },
   {
    "duration": 4,
    "start_time": "2021-11-16T09:29:54.281Z"
   },
   {
    "duration": 3,
    "start_time": "2021-11-16T09:30:45.936Z"
   },
   {
    "duration": 4,
    "start_time": "2021-11-16T09:31:06.300Z"
   },
   {
    "duration": 113,
    "start_time": "2021-11-16T09:31:37.208Z"
   },
   {
    "duration": 143,
    "start_time": "2021-11-16T09:31:48.656Z"
   },
   {
    "duration": 98,
    "start_time": "2021-11-16T09:31:55.678Z"
   },
   {
    "duration": 3,
    "start_time": "2021-11-16T09:32:08.535Z"
   },
   {
    "duration": 111,
    "start_time": "2021-11-16T09:32:10.120Z"
   },
   {
    "duration": 3,
    "start_time": "2021-11-16T09:32:15.732Z"
   },
   {
    "duration": 4,
    "start_time": "2021-11-16T09:32:29.423Z"
   },
   {
    "duration": 3,
    "start_time": "2021-11-16T10:03:03.074Z"
   },
   {
    "duration": 3,
    "start_time": "2021-11-16T10:10:01.288Z"
   },
   {
    "duration": 3,
    "start_time": "2021-11-16T10:10:46.923Z"
   },
   {
    "duration": 121,
    "start_time": "2021-11-16T10:37:46.494Z"
   },
   {
    "duration": 125,
    "start_time": "2021-11-16T10:38:20.632Z"
   },
   {
    "duration": 112,
    "start_time": "2021-11-16T10:46:53.001Z"
   },
   {
    "duration": 110,
    "start_time": "2021-11-16T10:48:25.775Z"
   },
   {
    "duration": 3,
    "start_time": "2021-11-16T10:50:18.720Z"
   },
   {
    "duration": 4,
    "start_time": "2021-11-16T10:50:37.649Z"
   },
   {
    "duration": 2,
    "start_time": "2021-11-16T10:50:51.884Z"
   },
   {
    "duration": 3,
    "start_time": "2021-11-16T10:51:56.237Z"
   },
   {
    "duration": 101,
    "start_time": "2021-11-16T10:53:13.791Z"
   },
   {
    "duration": 3,
    "start_time": "2021-11-16T10:55:59.186Z"
   },
   {
    "duration": 3,
    "start_time": "2021-11-16T10:56:10.751Z"
   },
   {
    "duration": 3,
    "start_time": "2021-11-16T10:56:49.038Z"
   },
   {
    "duration": 3,
    "start_time": "2021-11-16T10:56:49.174Z"
   },
   {
    "duration": 4,
    "start_time": "2021-11-16T10:56:49.414Z"
   },
   {
    "duration": 3,
    "start_time": "2021-11-16T10:56:49.680Z"
   },
   {
    "duration": 3,
    "start_time": "2021-11-16T10:56:50.370Z"
   },
   {
    "duration": 114,
    "start_time": "2021-11-16T10:59:34.518Z"
   },
   {
    "duration": 3,
    "start_time": "2021-11-16T11:01:41.201Z"
   },
   {
    "duration": 116,
    "start_time": "2021-11-16T11:01:48.754Z"
   },
   {
    "duration": 3,
    "start_time": "2021-11-16T11:02:16.685Z"
   },
   {
    "duration": 3,
    "start_time": "2021-11-16T11:02:19.479Z"
   },
   {
    "duration": 3,
    "start_time": "2021-11-16T11:02:47.067Z"
   },
   {
    "duration": 3,
    "start_time": "2021-11-16T11:02:49.353Z"
   },
   {
    "duration": 3,
    "start_time": "2021-11-16T11:03:07.835Z"
   },
   {
    "duration": 3,
    "start_time": "2021-11-16T11:03:07.953Z"
   },
   {
    "duration": 112,
    "start_time": "2021-11-16T11:07:52.072Z"
   },
   {
    "duration": 187,
    "start_time": "2021-11-16T11:09:23.468Z"
   },
   {
    "duration": 4,
    "start_time": "2021-11-16T11:10:01.455Z"
   },
   {
    "duration": 3,
    "start_time": "2021-11-16T11:10:05.069Z"
   },
   {
    "duration": 4,
    "start_time": "2021-11-16T11:10:13.376Z"
   },
   {
    "duration": 3,
    "start_time": "2021-11-16T11:10:14.434Z"
   },
   {
    "duration": 3,
    "start_time": "2021-11-16T11:10:22.853Z"
   },
   {
    "duration": 4,
    "start_time": "2021-11-16T11:27:29.279Z"
   },
   {
    "duration": 4,
    "start_time": "2021-11-16T11:29:08.919Z"
   },
   {
    "duration": 118,
    "start_time": "2021-11-16T11:29:46.703Z"
   },
   {
    "duration": 437,
    "start_time": "2021-11-16T11:36:02.181Z"
   },
   {
    "duration": 157,
    "start_time": "2021-11-16T11:36:14.388Z"
   },
   {
    "duration": 207,
    "start_time": "2021-11-16T11:47:15.898Z"
   },
   {
    "duration": 3,
    "start_time": "2021-11-16T11:53:52.092Z"
   },
   {
    "duration": 3,
    "start_time": "2021-11-16T11:53:52.236Z"
   },
   {
    "duration": 3,
    "start_time": "2021-11-16T11:59:12.005Z"
   },
   {
    "duration": 112,
    "start_time": "2021-11-16T12:00:33.446Z"
   },
   {
    "duration": 3,
    "start_time": "2021-11-16T12:02:14.453Z"
   },
   {
    "duration": 3,
    "start_time": "2021-11-16T12:02:39.512Z"
   },
   {
    "duration": 106,
    "start_time": "2021-11-16T12:03:03.460Z"
   },
   {
    "duration": 3,
    "start_time": "2021-11-17T20:37:21.139Z"
   },
   {
    "duration": 3,
    "start_time": "2021-11-17T20:37:22.229Z"
   },
   {
    "duration": 3,
    "start_time": "2021-11-17T20:38:38.806Z"
   },
   {
    "duration": 3,
    "start_time": "2021-11-17T20:38:41.958Z"
   },
   {
    "duration": 3,
    "start_time": "2021-11-17T20:43:46.551Z"
   },
   {
    "duration": 4,
    "start_time": "2021-11-17T20:58:21.835Z"
   },
   {
    "duration": 3,
    "start_time": "2021-11-17T20:59:21.872Z"
   },
   {
    "duration": 4,
    "start_time": "2021-11-17T20:59:45.352Z"
   },
   {
    "duration": 4,
    "start_time": "2021-11-17T20:59:49.646Z"
   },
   {
    "duration": 159,
    "start_time": "2021-11-17T21:02:26.949Z"
   },
   {
    "duration": 3,
    "start_time": "2021-11-17T21:03:53.461Z"
   },
   {
    "duration": 3,
    "start_time": "2021-11-17T21:03:53.694Z"
   },
   {
    "duration": 3,
    "start_time": "2021-11-17T21:05:28.145Z"
   },
   {
    "duration": 116,
    "start_time": "2021-11-17T21:05:57.787Z"
   },
   {
    "duration": 3,
    "start_time": "2021-11-17T21:06:37.993Z"
   },
   {
    "duration": 3,
    "start_time": "2021-11-17T21:06:38.261Z"
   },
   {
    "duration": 3,
    "start_time": "2021-11-17T21:11:54.358Z"
   },
   {
    "duration": 3,
    "start_time": "2021-11-17T21:12:43.846Z"
   },
   {
    "duration": 4,
    "start_time": "2021-11-17T21:13:08.773Z"
   },
   {
    "duration": 3,
    "start_time": "2021-11-17T21:14:44.441Z"
   },
   {
    "duration": 3,
    "start_time": "2021-11-17T21:15:42.059Z"
   },
   {
    "duration": 4,
    "start_time": "2021-11-17T21:15:51.995Z"
   },
   {
    "duration": 3,
    "start_time": "2021-11-17T21:15:53.923Z"
   },
   {
    "duration": 3,
    "start_time": "2021-11-17T21:15:55.282Z"
   },
   {
    "duration": 3,
    "start_time": "2021-11-17T21:16:28.492Z"
   },
   {
    "duration": 3,
    "start_time": "2021-11-17T21:16:32.603Z"
   },
   {
    "duration": 3,
    "start_time": "2021-11-17T21:17:06.941Z"
   },
   {
    "duration": 98,
    "start_time": "2021-11-17T21:18:05.733Z"
   },
   {
    "duration": 4,
    "start_time": "2021-11-17T21:21:35.255Z"
   },
   {
    "duration": 3,
    "start_time": "2021-11-17T21:21:37.804Z"
   },
   {
    "duration": 4,
    "start_time": "2021-11-17T21:23:06.071Z"
   },
   {
    "duration": 3,
    "start_time": "2021-11-17T21:23:24.799Z"
   },
   {
    "duration": 3,
    "start_time": "2021-11-17T21:23:32.591Z"
   },
   {
    "duration": 98,
    "start_time": "2021-11-17T21:28:31.559Z"
   },
   {
    "duration": 3,
    "start_time": "2021-11-17T21:28:45.448Z"
   },
   {
    "duration": 3,
    "start_time": "2021-11-17T21:29:17.303Z"
   },
   {
    "duration": 3,
    "start_time": "2021-11-17T21:29:29.617Z"
   },
   {
    "duration": 3,
    "start_time": "2021-11-17T21:29:32.681Z"
   },
   {
    "duration": 3,
    "start_time": "2021-11-17T21:36:11.474Z"
   },
   {
    "duration": 3,
    "start_time": "2021-11-17T21:36:14.791Z"
   },
   {
    "duration": 3,
    "start_time": "2021-11-17T21:36:53.943Z"
   },
   {
    "duration": 3,
    "start_time": "2021-11-17T21:36:56.165Z"
   },
   {
    "duration": 4,
    "start_time": "2021-11-17T21:37:16.590Z"
   },
   {
    "duration": 3,
    "start_time": "2021-11-17T21:37:22.702Z"
   },
   {
    "duration": 4,
    "start_time": "2021-11-17T21:38:03.479Z"
   },
   {
    "duration": 3,
    "start_time": "2021-11-17T21:38:08.601Z"
   },
   {
    "duration": 3,
    "start_time": "2021-11-17T21:38:12.928Z"
   },
   {
    "duration": 3,
    "start_time": "2021-11-17T21:38:48.896Z"
   },
   {
    "duration": 2,
    "start_time": "2021-11-17T21:38:49.171Z"
   },
   {
    "duration": 4,
    "start_time": "2021-11-17T21:39:57.889Z"
   },
   {
    "duration": 3,
    "start_time": "2021-11-17T21:39:58.057Z"
   },
   {
    "duration": 3,
    "start_time": "2021-11-17T21:41:20.108Z"
   },
   {
    "duration": 3,
    "start_time": "2021-11-17T21:41:20.629Z"
   },
   {
    "duration": 3,
    "start_time": "2021-11-17T21:42:49.136Z"
   },
   {
    "duration": 3,
    "start_time": "2021-11-17T21:43:15.137Z"
   },
   {
    "duration": 4,
    "start_time": "2021-11-17T21:43:16.766Z"
   },
   {
    "duration": 4,
    "start_time": "2021-11-17T21:43:31.711Z"
   },
   {
    "duration": 3,
    "start_time": "2021-11-17T21:43:36.312Z"
   },
   {
    "duration": 4,
    "start_time": "2021-11-17T21:45:08.825Z"
   },
   {
    "duration": 4,
    "start_time": "2021-11-17T21:45:10.119Z"
   },
   {
    "duration": 4,
    "start_time": "2021-11-17T21:45:13.748Z"
   },
   {
    "duration": 3,
    "start_time": "2021-11-17T21:45:22.219Z"
   },
   {
    "duration": 3,
    "start_time": "2021-11-17T21:45:33.412Z"
   },
   {
    "duration": 2,
    "start_time": "2021-11-17T21:46:01.885Z"
   },
   {
    "duration": 3,
    "start_time": "2021-11-17T21:46:03.628Z"
   },
   {
    "duration": 107,
    "start_time": "2021-11-17T21:47:32.512Z"
   },
   {
    "duration": 103,
    "start_time": "2021-11-17T21:50:36.243Z"
   },
   {
    "duration": 3,
    "start_time": "2021-11-18T06:28:31.440Z"
   },
   {
    "duration": 3,
    "start_time": "2021-11-18T06:29:00.168Z"
   },
   {
    "duration": 3,
    "start_time": "2021-11-18T06:31:27.008Z"
   },
   {
    "duration": 2,
    "start_time": "2021-11-18T06:35:34.288Z"
   },
   {
    "duration": 2,
    "start_time": "2021-11-18T06:38:04.527Z"
   },
   {
    "duration": 2469,
    "start_time": "2025-03-30T03:05:52.412Z"
   },
   {
    "duration": 565,
    "start_time": "2025-03-30T03:07:16.280Z"
   },
   {
    "duration": 60,
    "start_time": "2025-03-30T03:07:49.143Z"
   },
   {
    "duration": 224,
    "start_time": "2025-03-30T03:12:38.029Z"
   },
   {
    "duration": 2,
    "start_time": "2025-03-30T03:15:49.542Z"
   },
   {
    "duration": 2,
    "start_time": "2025-03-30T03:15:58.397Z"
   },
   {
    "duration": 165,
    "start_time": "2025-03-30T03:16:07.094Z"
   },
   {
    "duration": 206,
    "start_time": "2025-03-30T03:18:29.548Z"
   },
   {
    "duration": 227,
    "start_time": "2025-03-30T03:22:23.518Z"
   },
   {
    "duration": 232,
    "start_time": "2025-03-30T03:22:55.180Z"
   },
   {
    "duration": 204,
    "start_time": "2025-03-30T03:26:42.506Z"
   },
   {
    "duration": 156,
    "start_time": "2025-04-01T01:56:12.546Z"
   },
   {
    "duration": 11,
    "start_time": "2025-04-01T01:56:47.190Z"
   },
   {
    "duration": 12,
    "start_time": "2025-04-01T01:57:05.267Z"
   },
   {
    "duration": 12,
    "start_time": "2025-04-01T01:57:27.164Z"
   },
   {
    "duration": 11,
    "start_time": "2025-04-01T01:58:52.084Z"
   },
   {
    "duration": 12,
    "start_time": "2025-04-01T01:59:36.289Z"
   },
   {
    "duration": 342,
    "start_time": "2025-04-01T02:00:06.039Z"
   },
   {
    "duration": 5,
    "start_time": "2025-04-01T02:01:15.009Z"
   },
   {
    "duration": 6,
    "start_time": "2025-04-01T02:01:19.277Z"
   },
   {
    "duration": 375,
    "start_time": "2025-04-01T02:02:05.909Z"
   },
   {
    "duration": 11,
    "start_time": "2025-04-01T02:02:11.068Z"
   },
   {
    "duration": 8,
    "start_time": "2025-04-01T02:02:16.057Z"
   },
   {
    "duration": 3,
    "start_time": "2025-04-01T02:04:54.203Z"
   },
   {
    "duration": 12,
    "start_time": "2025-04-01T02:08:52.257Z"
   },
   {
    "duration": 14,
    "start_time": "2025-04-01T02:09:44.649Z"
   },
   {
    "duration": 8,
    "start_time": "2025-04-01T02:10:05.850Z"
   },
   {
    "duration": 4,
    "start_time": "2025-04-01T02:15:14.158Z"
   },
   {
    "duration": 13,
    "start_time": "2025-04-01T02:15:24.576Z"
   },
   {
    "duration": 12,
    "start_time": "2025-04-01T02:15:34.191Z"
   },
   {
    "duration": 13,
    "start_time": "2025-04-01T02:16:08.384Z"
   },
   {
    "duration": 14,
    "start_time": "2025-04-01T02:17:03.204Z"
   },
   {
    "duration": 15,
    "start_time": "2025-04-01T02:18:29.781Z"
   },
   {
    "duration": 14,
    "start_time": "2025-04-01T02:18:39.553Z"
   },
   {
    "duration": 17,
    "start_time": "2025-04-01T02:19:39.941Z"
   },
   {
    "duration": 14,
    "start_time": "2025-04-01T02:19:45.763Z"
   },
   {
    "duration": 22,
    "start_time": "2025-04-01T02:19:53.586Z"
   },
   {
    "duration": 16,
    "start_time": "2025-04-01T02:20:01.529Z"
   },
   {
    "duration": 14,
    "start_time": "2025-04-01T02:20:27.478Z"
   },
   {
    "duration": 2,
    "start_time": "2025-04-01T02:21:04.894Z"
   },
   {
    "duration": 102,
    "start_time": "2025-04-01T02:22:09.349Z"
   },
   {
    "duration": 5,
    "start_time": "2025-04-01T02:22:27.436Z"
   },
   {
    "duration": 97,
    "start_time": "2025-04-01T02:23:42.328Z"
   },
   {
    "duration": 93,
    "start_time": "2025-04-01T02:23:51.143Z"
   },
   {
    "duration": 88,
    "start_time": "2025-04-01T02:24:09.656Z"
   },
   {
    "duration": 5,
    "start_time": "2025-04-01T02:24:22.307Z"
   },
   {
    "duration": 82,
    "start_time": "2025-04-01T02:24:49.790Z"
   },
   {
    "duration": 96,
    "start_time": "2025-04-01T02:25:19.539Z"
   },
   {
    "duration": 3,
    "start_time": "2025-04-01T02:26:56.071Z"
   },
   {
    "duration": 54,
    "start_time": "2025-04-01T02:28:55.891Z"
   },
   {
    "duration": 5,
    "start_time": "2025-04-01T02:29:50.265Z"
   },
   {
    "duration": 53,
    "start_time": "2025-04-01T02:30:48.709Z"
   },
   {
    "duration": 3,
    "start_time": "2025-04-01T02:31:07.740Z"
   },
   {
    "duration": 86,
    "start_time": "2025-04-01T02:32:40.039Z"
   },
   {
    "duration": 5,
    "start_time": "2025-04-01T02:36:19.929Z"
   },
   {
    "duration": 72,
    "start_time": "2025-04-01T02:37:04.493Z"
   },
   {
    "duration": 3,
    "start_time": "2025-04-01T02:37:23.812Z"
   },
   {
    "duration": 12,
    "start_time": "2025-04-01T02:40:48.470Z"
   },
   {
    "duration": 66,
    "start_time": "2025-04-01T02:51:39.859Z"
   },
   {
    "duration": 55,
    "start_time": "2025-04-01T02:59:28.214Z"
   },
   {
    "duration": 32,
    "start_time": "2025-04-01T03:00:49.328Z"
   },
   {
    "duration": 43,
    "start_time": "2025-04-01T03:01:26.637Z"
   },
   {
    "duration": 19,
    "start_time": "2025-04-01T03:02:25.113Z"
   },
   {
    "duration": 13,
    "start_time": "2025-04-01T03:04:07.668Z"
   },
   {
    "duration": 398,
    "start_time": "2025-04-01T03:06:38.159Z"
   },
   {
    "duration": 48,
    "start_time": "2025-04-01T03:07:29.942Z"
   },
   {
    "duration": 43,
    "start_time": "2025-04-01T03:08:14.103Z"
   },
   {
    "duration": 3,
    "start_time": "2025-04-01T03:09:43.297Z"
   },
   {
    "duration": 44,
    "start_time": "2025-04-01T03:11:03.789Z"
   },
   {
    "duration": 49,
    "start_time": "2025-04-01T03:11:19.919Z"
   },
   {
    "duration": 3,
    "start_time": "2025-04-01T03:12:08.880Z"
   },
   {
    "duration": 3,
    "start_time": "2025-04-01T03:12:10.175Z"
   },
   {
    "duration": 2644,
    "start_time": "2025-04-01T03:14:15.700Z"
   },
   {
    "duration": 523,
    "start_time": "2025-04-01T03:15:15.473Z"
   },
   {
    "duration": 3,
    "start_time": "2025-04-01T03:17:33.502Z"
   },
   {
    "duration": 4,
    "start_time": "2025-04-01T03:17:43.423Z"
   },
   {
    "duration": 3125,
    "start_time": "2025-04-02T01:18:34.421Z"
   },
   {
    "duration": 17,
    "start_time": "2025-04-02T01:21:21.285Z"
   },
   {
    "duration": 15,
    "start_time": "2025-04-02T01:21:31.356Z"
   },
   {
    "duration": 17,
    "start_time": "2025-04-02T01:21:51.829Z"
   },
   {
    "duration": 62,
    "start_time": "2025-04-02T01:22:18.064Z"
   },
   {
    "duration": 17,
    "start_time": "2025-04-02T01:23:35.654Z"
   },
   {
    "duration": 2,
    "start_time": "2025-04-02T01:36:17.377Z"
   },
   {
    "duration": 33,
    "start_time": "2025-04-02T01:43:13.317Z"
   },
   {
    "duration": 20,
    "start_time": "2025-04-02T01:44:14.464Z"
   },
   {
    "duration": 16,
    "start_time": "2025-04-02T01:44:34.444Z"
   },
   {
    "duration": 27,
    "start_time": "2025-04-02T01:45:00.501Z"
   },
   {
    "duration": 19,
    "start_time": "2025-04-02T01:45:21.529Z"
   },
   {
    "duration": 705,
    "start_time": "2025-04-02T01:47:48.450Z"
   },
   {
    "duration": 161,
    "start_time": "2025-04-02T02:42:44.849Z"
   },
   {
    "duration": 12,
    "start_time": "2025-04-02T02:44:11.647Z"
   },
   {
    "duration": 3128,
    "start_time": "2025-04-02T02:44:36.656Z"
   },
   {
    "duration": 2,
    "start_time": "2025-04-02T02:45:28.471Z"
   },
   {
    "duration": 26,
    "start_time": "2025-04-02T02:47:15.308Z"
   },
   {
    "duration": 3,
    "start_time": "2025-04-02T02:48:46.391Z"
   },
   {
    "duration": 508,
    "start_time": "2025-04-02T02:49:01.004Z"
   },
   {
    "duration": 120,
    "start_time": "2025-04-02T02:49:13.692Z"
   },
   {
    "duration": 2,
    "start_time": "2025-04-02T02:50:19.126Z"
   },
   {
    "duration": 47,
    "start_time": "2025-04-02T02:51:26.753Z"
   },
   {
    "duration": 37,
    "start_time": "2025-04-02T02:51:37.481Z"
   },
   {
    "duration": 40,
    "start_time": "2025-04-02T02:52:23.768Z"
   },
   {
    "duration": 36,
    "start_time": "2025-04-02T02:53:39.433Z"
   },
   {
    "duration": 232,
    "start_time": "2025-04-02T02:55:56.365Z"
   },
   {
    "duration": 231,
    "start_time": "2025-04-02T02:56:34.480Z"
   },
   {
    "duration": 110,
    "start_time": "2025-04-02T03:03:45.998Z"
   },
   {
    "duration": 117,
    "start_time": "2025-04-02T03:04:09.251Z"
   },
   {
    "duration": 237,
    "start_time": "2025-04-02T03:07:27.923Z"
   },
   {
    "duration": 708,
    "start_time": "2025-04-02T03:08:11.190Z"
   },
   {
    "duration": 1062,
    "start_time": "2025-04-02T03:08:30.524Z"
   },
   {
    "duration": 1111,
    "start_time": "2025-04-02T03:09:16.132Z"
   },
   {
    "duration": 1081,
    "start_time": "2025-04-02T03:09:33.095Z"
   },
   {
    "duration": 5,
    "start_time": "2025-04-02T03:19:23.121Z"
   },
   {
    "duration": 3,
    "start_time": "2025-04-02T03:19:33.036Z"
   },
   {
    "duration": 42,
    "start_time": "2025-04-02T03:25:06.117Z"
   },
   {
    "duration": 50,
    "start_time": "2025-04-02T03:25:34.853Z"
   },
   {
    "duration": 239,
    "start_time": "2025-04-02T03:26:01.748Z"
   },
   {
    "duration": 7,
    "start_time": "2025-04-02T03:26:46.504Z"
   },
   {
    "duration": 7,
    "start_time": "2025-04-02T03:29:24.747Z"
   },
   {
    "duration": 365,
    "start_time": "2025-04-02T03:35:46.540Z"
   },
   {
    "duration": 43,
    "start_time": "2025-04-02T03:36:00.668Z"
   },
   {
    "duration": 42,
    "start_time": "2025-04-02T03:37:23.820Z"
   },
   {
    "duration": 43,
    "start_time": "2025-04-02T03:38:12.194Z"
   },
   {
    "duration": 43,
    "start_time": "2025-04-02T03:39:03.235Z"
   },
   {
    "duration": 3,
    "start_time": "2025-04-02T03:40:15.923Z"
   },
   {
    "duration": 10,
    "start_time": "2025-04-02T03:40:27.712Z"
   },
   {
    "duration": 3,
    "start_time": "2025-04-02T03:41:32.655Z"
   },
   {
    "duration": 5,
    "start_time": "2025-04-02T03:42:11.941Z"
   },
   {
    "duration": 8,
    "start_time": "2025-04-02T03:42:51.681Z"
   },
   {
    "duration": 2,
    "start_time": "2025-04-02T03:43:50.407Z"
   },
   {
    "duration": 43,
    "start_time": "2025-04-02T03:45:22.582Z"
   },
   {
    "duration": 2,
    "start_time": "2025-04-02T03:45:35.178Z"
   },
   {
    "duration": 45,
    "start_time": "2025-04-02T03:45:42.093Z"
   },
   {
    "duration": 2,
    "start_time": "2025-04-02T03:46:02.726Z"
   },
   {
    "duration": 72,
    "start_time": "2025-04-02T03:46:28.390Z"
   },
   {
    "duration": 3,
    "start_time": "2025-04-02T03:47:41.427Z"
   },
   {
    "duration": 6,
    "start_time": "2025-04-02T03:47:56.040Z"
   },
   {
    "duration": 5,
    "start_time": "2025-04-02T03:48:16.948Z"
   },
   {
    "duration": 6,
    "start_time": "2025-04-02T03:48:21.221Z"
   },
   {
    "duration": 2,
    "start_time": "2025-04-02T03:48:36.485Z"
   },
   {
    "duration": 4,
    "start_time": "2025-04-02T03:48:55.264Z"
   },
   {
    "duration": 5,
    "start_time": "2025-04-02T03:49:08.839Z"
   },
   {
    "duration": 7,
    "start_time": "2025-04-02T03:50:02.379Z"
   },
   {
    "duration": 6,
    "start_time": "2025-04-02T03:50:18.216Z"
   },
   {
    "duration": 2677,
    "start_time": "2025-04-04T00:43:13.728Z"
   },
   {
    "duration": 20,
    "start_time": "2025-04-04T00:55:02.609Z"
   },
   {
    "duration": 15,
    "start_time": "2025-04-04T00:55:37.148Z"
   },
   {
    "duration": 3,
    "start_time": "2025-04-04T01:46:36.135Z"
   },
   {
    "duration": 132,
    "start_time": "2025-04-04T01:50:45.640Z"
   },
   {
    "duration": 215,
    "start_time": "2025-04-04T01:56:03.392Z"
   },
   {
    "duration": 207,
    "start_time": "2025-04-04T01:58:01.187Z"
   },
   {
    "duration": 175,
    "start_time": "2025-04-04T01:58:31.138Z"
   },
   {
    "duration": 180,
    "start_time": "2025-04-04T01:58:43.305Z"
   },
   {
    "duration": 24,
    "start_time": "2025-04-04T02:01:36.453Z"
   },
   {
    "duration": 441,
    "start_time": "2025-04-04T02:03:10.120Z"
   },
   {
    "duration": 398,
    "start_time": "2025-04-04T02:03:41.371Z"
   },
   {
    "duration": 412,
    "start_time": "2025-04-04T02:07:58.058Z"
   },
   {
    "duration": 2,
    "start_time": "2025-04-04T02:08:13.485Z"
   },
   {
    "duration": 23,
    "start_time": "2025-04-04T02:08:22.674Z"
   },
   {
    "duration": 72,
    "start_time": "2025-04-04T02:09:50.115Z"
   },
   {
    "duration": 75,
    "start_time": "2025-04-04T02:10:11.856Z"
   },
   {
    "duration": 72,
    "start_time": "2025-04-04T02:10:17.741Z"
   },
   {
    "duration": 2,
    "start_time": "2025-04-04T02:11:40.439Z"
   },
   {
    "duration": 1413,
    "start_time": "2025-04-04T02:12:07.282Z"
   },
   {
    "duration": 1400,
    "start_time": "2025-04-04T02:13:14.380Z"
   },
   {
    "duration": 797,
    "start_time": "2025-04-05T23:57:09.321Z"
   },
   {
    "duration": 1112,
    "start_time": "2025-04-06T00:13:46.597Z"
   },
   {
    "duration": 65,
    "start_time": "2025-04-06T00:13:52.008Z"
   },
   {
    "duration": 2,
    "start_time": "2025-04-06T00:14:24.420Z"
   },
   {
    "duration": 74,
    "start_time": "2025-04-06T00:14:28.132Z"
   },
   {
    "duration": 1096,
    "start_time": "2025-04-06T00:15:55.684Z"
   },
   {
    "duration": 1091,
    "start_time": "2025-04-06T00:16:07.330Z"
   },
   {
    "duration": 1101,
    "start_time": "2025-04-06T00:16:21.074Z"
   },
   {
    "duration": 1071,
    "start_time": "2025-04-06T00:17:37.737Z"
   },
   {
    "duration": 3,
    "start_time": "2025-04-06T00:23:39.837Z"
   },
   {
    "duration": 3,
    "start_time": "2025-04-06T00:23:51.500Z"
   },
   {
    "duration": 3,
    "start_time": "2025-04-06T00:24:07.604Z"
   },
   {
    "duration": 3,
    "start_time": "2025-04-06T00:25:23.332Z"
   },
   {
    "duration": 9,
    "start_time": "2025-04-06T00:25:40.235Z"
   },
   {
    "duration": 4,
    "start_time": "2025-04-06T00:25:47.362Z"
   },
   {
    "duration": 3,
    "start_time": "2025-04-06T00:26:54.427Z"
   },
   {
    "duration": 3,
    "start_time": "2025-04-06T00:27:18.223Z"
   }
  ],
  "colab": {
   "provenance": []
  },
  "kernelspec": {
   "display_name": "Python 3 (ipykernel)",
   "language": "python",
   "name": "python3"
  },
  "language_info": {
   "codemirror_mode": {
    "name": "ipython",
    "version": 3
   },
   "file_extension": ".py",
   "mimetype": "text/x-python",
   "name": "python",
   "nbconvert_exporter": "python",
   "pygments_lexer": "ipython3",
   "version": "3.9.19"
  },
  "toc": {
   "base_numbering": 1,
   "nav_menu": {},
   "number_sections": true,
   "sideBar": true,
   "skip_h1_title": false,
   "title_cell": "Table of Contents",
   "title_sidebar": "Contents",
   "toc_cell": false,
   "toc_position": {
    "height": "calc(100% - 180px)",
    "left": "10px",
    "top": "150px",
    "width": "165px"
   },
   "toc_section_display": true,
   "toc_window_display": true
  }
 },
 "nbformat": 4,
 "nbformat_minor": 1
}
